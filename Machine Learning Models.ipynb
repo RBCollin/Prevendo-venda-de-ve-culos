{
 "cells": [
  {
   "cell_type": "code",
   "execution_count": 296,
   "metadata": {},
   "outputs": [],
   "source": [
    "import numpy as np\n",
    "import pandas as pd\n",
    "import matplotlib.pyplot as plt\n",
    "import matplotlib as mpl\n",
    "from sklearn import linear_model\n",
    "from sklearn.metrics import r2_score\n",
    "from sklearn.pipeline import make_pipeline\n",
    "from sklearn.preprocessing import PolynomialFeatures\n",
    "from sklearn.preprocessing import StandardScaler\n",
    "import statsmodels.api as sm\n",
    "import statsmodels.formula.api as smf\n",
    "%matplotlib inline "
   ]
  },
  {
   "cell_type": "code",
   "execution_count": 297,
   "metadata": {},
   "outputs": [],
   "source": [
    "## classificaçao uso acuracia (0-1) e confusion matrix (acertor e erros)\n",
    "## regressao uso rmse raiz do erro quadratico medio, quanto maior é pior."
   ]
  },
  {
   "cell_type": "code",
   "execution_count": 298,
   "metadata": {},
   "outputs": [],
   "source": [
    "dataframe = pd.ExcelFile(\"testetcc.xlsx\")\n",
    "dataFrame = pd.read_excel(dataframe, read_excel=None)"
   ]
  },
  {
   "cell_type": "code",
   "execution_count": 299,
   "metadata": {},
   "outputs": [
    {
     "data": {
      "text/html": [
       "<div>\n",
       "<style scoped>\n",
       "    .dataframe tbody tr th:only-of-type {\n",
       "        vertical-align: middle;\n",
       "    }\n",
       "\n",
       "    .dataframe tbody tr th {\n",
       "        vertical-align: top;\n",
       "    }\n",
       "\n",
       "    .dataframe thead th {\n",
       "        text-align: right;\n",
       "    }\n",
       "</style>\n",
       "<table border=\"1\" class=\"dataframe\">\n",
       "  <thead>\n",
       "    <tr style=\"text-align: right;\">\n",
       "      <th></th>\n",
       "      <th>Data</th>\n",
       "      <th>IGPM  Δ%</th>\n",
       "      <th>INPC Δ%</th>\n",
       "      <th>IPCA  Δ%</th>\n",
       "      <th>Salário minimo R$</th>\n",
       "      <th>Taxa Celic Over % a.a</th>\n",
       "      <th>Balança comercial US$</th>\n",
       "      <th>PIB R$ milhões</th>\n",
       "      <th>Produção industrial Δ% a.a</th>\n",
       "      <th>Casos covid</th>\n",
       "      <th>Unidades Vendidas</th>\n",
       "    </tr>\n",
       "  </thead>\n",
       "  <tbody>\n",
       "    <tr>\n",
       "      <th>0</th>\n",
       "      <td>2003-01-01</td>\n",
       "      <td>2.33</td>\n",
       "      <td>2.47</td>\n",
       "      <td>2.25</td>\n",
       "      <td>200.0</td>\n",
       "      <td>26.38</td>\n",
       "      <td>1.040289e+09</td>\n",
       "      <td>127177.5</td>\n",
       "      <td>2.21</td>\n",
       "      <td>0</td>\n",
       "      <td>120511.0</td>\n",
       "    </tr>\n",
       "    <tr>\n",
       "      <th>1</th>\n",
       "      <td>2003-02-01</td>\n",
       "      <td>2.28</td>\n",
       "      <td>1.46</td>\n",
       "      <td>1.57</td>\n",
       "      <td>200.0</td>\n",
       "      <td>24.31</td>\n",
       "      <td>1.008624e+09</td>\n",
       "      <td>131373.6</td>\n",
       "      <td>3.01</td>\n",
       "      <td>0</td>\n",
       "      <td>131846.0</td>\n",
       "    </tr>\n",
       "    <tr>\n",
       "      <th>2</th>\n",
       "      <td>2003-03-01</td>\n",
       "      <td>1.53</td>\n",
       "      <td>1.37</td>\n",
       "      <td>1.23</td>\n",
       "      <td>200.0</td>\n",
       "      <td>23.58</td>\n",
       "      <td>1.422889e+09</td>\n",
       "      <td>138690.5</td>\n",
       "      <td>0.00</td>\n",
       "      <td>0</td>\n",
       "      <td>125162.0</td>\n",
       "    </tr>\n",
       "    <tr>\n",
       "      <th>3</th>\n",
       "      <td>2003-04-01</td>\n",
       "      <td>0.92</td>\n",
       "      <td>1.38</td>\n",
       "      <td>0.97</td>\n",
       "      <td>240.0</td>\n",
       "      <td>24.90</td>\n",
       "      <td>1.600226e+09</td>\n",
       "      <td>141388.1</td>\n",
       "      <td>-3.89</td>\n",
       "      <td>0</td>\n",
       "      <td>130799.0</td>\n",
       "    </tr>\n",
       "    <tr>\n",
       "      <th>4</th>\n",
       "      <td>2003-05-01</td>\n",
       "      <td>-0.26</td>\n",
       "      <td>0.99</td>\n",
       "      <td>0.61</td>\n",
       "      <td>240.0</td>\n",
       "      <td>26.38</td>\n",
       "      <td>2.416734e+09</td>\n",
       "      <td>139605.8</td>\n",
       "      <td>-0.87</td>\n",
       "      <td>0</td>\n",
       "      <td>126942.0</td>\n",
       "    </tr>\n",
       "    <tr>\n",
       "      <th>...</th>\n",
       "      <td>...</td>\n",
       "      <td>...</td>\n",
       "      <td>...</td>\n",
       "      <td>...</td>\n",
       "      <td>...</td>\n",
       "      <td>...</td>\n",
       "      <td>...</td>\n",
       "      <td>...</td>\n",
       "      <td>...</td>\n",
       "      <td>...</td>\n",
       "      <td>...</td>\n",
       "    </tr>\n",
       "    <tr>\n",
       "      <th>218</th>\n",
       "      <td>2021-03-01</td>\n",
       "      <td>2.94</td>\n",
       "      <td>0.86</td>\n",
       "      <td>0.93</td>\n",
       "      <td>1100.0</td>\n",
       "      <td>2.43</td>\n",
       "      <td>6.410389e+09</td>\n",
       "      <td>723966.1</td>\n",
       "      <td>10.53</td>\n",
       "      <td>2197488</td>\n",
       "      <td>208801.0</td>\n",
       "    </tr>\n",
       "    <tr>\n",
       "      <th>219</th>\n",
       "      <td>2021-04-01</td>\n",
       "      <td>1.51</td>\n",
       "      <td>0.38</td>\n",
       "      <td>0.31</td>\n",
       "      <td>1100.0</td>\n",
       "      <td>2.55</td>\n",
       "      <td>9.867923e+09</td>\n",
       "      <td>682431.7</td>\n",
       "      <td>34.66</td>\n",
       "      <td>1910264</td>\n",
       "      <td>191853.0</td>\n",
       "    </tr>\n",
       "    <tr>\n",
       "      <th>220</th>\n",
       "      <td>2021-05-01</td>\n",
       "      <td>4.10</td>\n",
       "      <td>0.96</td>\n",
       "      <td>0.83</td>\n",
       "      <td>1100.0</td>\n",
       "      <td>3.29</td>\n",
       "      <td>8.583950e+09</td>\n",
       "      <td>698842.4</td>\n",
       "      <td>24.05</td>\n",
       "      <td>1886543</td>\n",
       "      <td>206221.0</td>\n",
       "    </tr>\n",
       "    <tr>\n",
       "      <th>221</th>\n",
       "      <td>2021-06-01</td>\n",
       "      <td>0.60</td>\n",
       "      <td>0.60</td>\n",
       "      <td>0.53</td>\n",
       "      <td>1100.0</td>\n",
       "      <td>3.78</td>\n",
       "      <td>1.025090e+10</td>\n",
       "      <td>NaN</td>\n",
       "      <td>NaN</td>\n",
       "      <td>2011587</td>\n",
       "      <td>191571.0</td>\n",
       "    </tr>\n",
       "    <tr>\n",
       "      <th>222</th>\n",
       "      <td>2021-07-01</td>\n",
       "      <td>NaN</td>\n",
       "      <td>NaN</td>\n",
       "      <td>NaN</td>\n",
       "      <td>NaN</td>\n",
       "      <td>NaN</td>\n",
       "      <td>NaN</td>\n",
       "      <td>NaN</td>\n",
       "      <td>NaN</td>\n",
       "      <td>1360714</td>\n",
       "      <td>NaN</td>\n",
       "    </tr>\n",
       "  </tbody>\n",
       "</table>\n",
       "<p>223 rows × 11 columns</p>\n",
       "</div>"
      ],
      "text/plain": [
       "          Data  IGPM  Δ%  INPC Δ%  IPCA  Δ%  Salário minimo R$  \\\n",
       "0   2003-01-01      2.33     2.47      2.25              200.0   \n",
       "1   2003-02-01      2.28     1.46      1.57              200.0   \n",
       "2   2003-03-01      1.53     1.37      1.23              200.0   \n",
       "3   2003-04-01      0.92     1.38      0.97              240.0   \n",
       "4   2003-05-01     -0.26     0.99      0.61              240.0   \n",
       "..         ...       ...      ...       ...                ...   \n",
       "218 2021-03-01      2.94     0.86      0.93             1100.0   \n",
       "219 2021-04-01      1.51     0.38      0.31             1100.0   \n",
       "220 2021-05-01      4.10     0.96      0.83             1100.0   \n",
       "221 2021-06-01      0.60     0.60      0.53             1100.0   \n",
       "222 2021-07-01       NaN      NaN       NaN                NaN   \n",
       "\n",
       "     Taxa Celic Over % a.a  Balança comercial US$  PIB R$ milhões  \\\n",
       "0                    26.38           1.040289e+09        127177.5   \n",
       "1                    24.31           1.008624e+09        131373.6   \n",
       "2                    23.58           1.422889e+09        138690.5   \n",
       "3                    24.90           1.600226e+09        141388.1   \n",
       "4                    26.38           2.416734e+09        139605.8   \n",
       "..                     ...                    ...             ...   \n",
       "218                   2.43           6.410389e+09        723966.1   \n",
       "219                   2.55           9.867923e+09        682431.7   \n",
       "220                   3.29           8.583950e+09        698842.4   \n",
       "221                   3.78           1.025090e+10             NaN   \n",
       "222                    NaN                    NaN             NaN   \n",
       "\n",
       "     Produção industrial Δ% a.a  Casos covid  Unidades Vendidas  \n",
       "0                          2.21            0           120511.0  \n",
       "1                          3.01            0           131846.0  \n",
       "2                          0.00            0           125162.0  \n",
       "3                         -3.89            0           130799.0  \n",
       "4                         -0.87            0           126942.0  \n",
       "..                          ...          ...                ...  \n",
       "218                       10.53      2197488           208801.0  \n",
       "219                       34.66      1910264           191853.0  \n",
       "220                       24.05      1886543           206221.0  \n",
       "221                         NaN      2011587           191571.0  \n",
       "222                         NaN      1360714                NaN  \n",
       "\n",
       "[223 rows x 11 columns]"
      ]
     },
     "execution_count": 299,
     "metadata": {},
     "output_type": "execute_result"
    }
   ],
   "source": [
    "dataFrame"
   ]
  },
  {
   "cell_type": "code",
   "execution_count": 300,
   "metadata": {},
   "outputs": [],
   "source": [
    "df = dataFrame.drop(['Data'], 1, inplace = False)"
   ]
  },
  {
   "cell_type": "code",
   "execution_count": 301,
   "metadata": {},
   "outputs": [
    {
     "data": {
      "text/html": [
       "<div>\n",
       "<style scoped>\n",
       "    .dataframe tbody tr th:only-of-type {\n",
       "        vertical-align: middle;\n",
       "    }\n",
       "\n",
       "    .dataframe tbody tr th {\n",
       "        vertical-align: top;\n",
       "    }\n",
       "\n",
       "    .dataframe thead th {\n",
       "        text-align: right;\n",
       "    }\n",
       "</style>\n",
       "<table border=\"1\" class=\"dataframe\">\n",
       "  <thead>\n",
       "    <tr style=\"text-align: right;\">\n",
       "      <th></th>\n",
       "      <th>IGPM  Δ%</th>\n",
       "      <th>INPC Δ%</th>\n",
       "      <th>IPCA  Δ%</th>\n",
       "      <th>Salário minimo R$</th>\n",
       "      <th>Taxa Celic Over % a.a</th>\n",
       "      <th>Balança comercial US$</th>\n",
       "      <th>PIB R$ milhões</th>\n",
       "      <th>Produção industrial Δ% a.a</th>\n",
       "      <th>Casos covid</th>\n",
       "      <th>Unidades Vendidas</th>\n",
       "    </tr>\n",
       "  </thead>\n",
       "  <tbody>\n",
       "    <tr>\n",
       "      <th>0</th>\n",
       "      <td>2.33</td>\n",
       "      <td>2.47</td>\n",
       "      <td>2.25</td>\n",
       "      <td>200.0</td>\n",
       "      <td>26.38</td>\n",
       "      <td>1.040289e+09</td>\n",
       "      <td>127177.5</td>\n",
       "      <td>2.21</td>\n",
       "      <td>0</td>\n",
       "      <td>120511.0</td>\n",
       "    </tr>\n",
       "    <tr>\n",
       "      <th>1</th>\n",
       "      <td>2.28</td>\n",
       "      <td>1.46</td>\n",
       "      <td>1.57</td>\n",
       "      <td>200.0</td>\n",
       "      <td>24.31</td>\n",
       "      <td>1.008624e+09</td>\n",
       "      <td>131373.6</td>\n",
       "      <td>3.01</td>\n",
       "      <td>0</td>\n",
       "      <td>131846.0</td>\n",
       "    </tr>\n",
       "    <tr>\n",
       "      <th>2</th>\n",
       "      <td>1.53</td>\n",
       "      <td>1.37</td>\n",
       "      <td>1.23</td>\n",
       "      <td>200.0</td>\n",
       "      <td>23.58</td>\n",
       "      <td>1.422889e+09</td>\n",
       "      <td>138690.5</td>\n",
       "      <td>0.00</td>\n",
       "      <td>0</td>\n",
       "      <td>125162.0</td>\n",
       "    </tr>\n",
       "    <tr>\n",
       "      <th>3</th>\n",
       "      <td>0.92</td>\n",
       "      <td>1.38</td>\n",
       "      <td>0.97</td>\n",
       "      <td>240.0</td>\n",
       "      <td>24.90</td>\n",
       "      <td>1.600226e+09</td>\n",
       "      <td>141388.1</td>\n",
       "      <td>-3.89</td>\n",
       "      <td>0</td>\n",
       "      <td>130799.0</td>\n",
       "    </tr>\n",
       "    <tr>\n",
       "      <th>4</th>\n",
       "      <td>-0.26</td>\n",
       "      <td>0.99</td>\n",
       "      <td>0.61</td>\n",
       "      <td>240.0</td>\n",
       "      <td>26.38</td>\n",
       "      <td>2.416734e+09</td>\n",
       "      <td>139605.8</td>\n",
       "      <td>-0.87</td>\n",
       "      <td>0</td>\n",
       "      <td>126942.0</td>\n",
       "    </tr>\n",
       "    <tr>\n",
       "      <th>...</th>\n",
       "      <td>...</td>\n",
       "      <td>...</td>\n",
       "      <td>...</td>\n",
       "      <td>...</td>\n",
       "      <td>...</td>\n",
       "      <td>...</td>\n",
       "      <td>...</td>\n",
       "      <td>...</td>\n",
       "      <td>...</td>\n",
       "      <td>...</td>\n",
       "    </tr>\n",
       "    <tr>\n",
       "      <th>218</th>\n",
       "      <td>2.94</td>\n",
       "      <td>0.86</td>\n",
       "      <td>0.93</td>\n",
       "      <td>1100.0</td>\n",
       "      <td>2.43</td>\n",
       "      <td>6.410389e+09</td>\n",
       "      <td>723966.1</td>\n",
       "      <td>10.53</td>\n",
       "      <td>2197488</td>\n",
       "      <td>208801.0</td>\n",
       "    </tr>\n",
       "    <tr>\n",
       "      <th>219</th>\n",
       "      <td>1.51</td>\n",
       "      <td>0.38</td>\n",
       "      <td>0.31</td>\n",
       "      <td>1100.0</td>\n",
       "      <td>2.55</td>\n",
       "      <td>9.867923e+09</td>\n",
       "      <td>682431.7</td>\n",
       "      <td>34.66</td>\n",
       "      <td>1910264</td>\n",
       "      <td>191853.0</td>\n",
       "    </tr>\n",
       "    <tr>\n",
       "      <th>220</th>\n",
       "      <td>4.10</td>\n",
       "      <td>0.96</td>\n",
       "      <td>0.83</td>\n",
       "      <td>1100.0</td>\n",
       "      <td>3.29</td>\n",
       "      <td>8.583950e+09</td>\n",
       "      <td>698842.4</td>\n",
       "      <td>24.05</td>\n",
       "      <td>1886543</td>\n",
       "      <td>206221.0</td>\n",
       "    </tr>\n",
       "    <tr>\n",
       "      <th>221</th>\n",
       "      <td>0.60</td>\n",
       "      <td>0.60</td>\n",
       "      <td>0.53</td>\n",
       "      <td>1100.0</td>\n",
       "      <td>3.78</td>\n",
       "      <td>1.025090e+10</td>\n",
       "      <td>NaN</td>\n",
       "      <td>NaN</td>\n",
       "      <td>2011587</td>\n",
       "      <td>191571.0</td>\n",
       "    </tr>\n",
       "    <tr>\n",
       "      <th>222</th>\n",
       "      <td>NaN</td>\n",
       "      <td>NaN</td>\n",
       "      <td>NaN</td>\n",
       "      <td>NaN</td>\n",
       "      <td>NaN</td>\n",
       "      <td>NaN</td>\n",
       "      <td>NaN</td>\n",
       "      <td>NaN</td>\n",
       "      <td>1360714</td>\n",
       "      <td>NaN</td>\n",
       "    </tr>\n",
       "  </tbody>\n",
       "</table>\n",
       "<p>223 rows × 10 columns</p>\n",
       "</div>"
      ],
      "text/plain": [
       "     IGPM  Δ%  INPC Δ%  IPCA  Δ%  Salário minimo R$  Taxa Celic Over % a.a  \\\n",
       "0        2.33     2.47      2.25              200.0                  26.38   \n",
       "1        2.28     1.46      1.57              200.0                  24.31   \n",
       "2        1.53     1.37      1.23              200.0                  23.58   \n",
       "3        0.92     1.38      0.97              240.0                  24.90   \n",
       "4       -0.26     0.99      0.61              240.0                  26.38   \n",
       "..        ...      ...       ...                ...                    ...   \n",
       "218      2.94     0.86      0.93             1100.0                   2.43   \n",
       "219      1.51     0.38      0.31             1100.0                   2.55   \n",
       "220      4.10     0.96      0.83             1100.0                   3.29   \n",
       "221      0.60     0.60      0.53             1100.0                   3.78   \n",
       "222       NaN      NaN       NaN                NaN                    NaN   \n",
       "\n",
       "     Balança comercial US$  PIB R$ milhões  Produção industrial Δ% a.a  \\\n",
       "0             1.040289e+09        127177.5                        2.21   \n",
       "1             1.008624e+09        131373.6                        3.01   \n",
       "2             1.422889e+09        138690.5                        0.00   \n",
       "3             1.600226e+09        141388.1                       -3.89   \n",
       "4             2.416734e+09        139605.8                       -0.87   \n",
       "..                     ...             ...                         ...   \n",
       "218           6.410389e+09        723966.1                       10.53   \n",
       "219           9.867923e+09        682431.7                       34.66   \n",
       "220           8.583950e+09        698842.4                       24.05   \n",
       "221           1.025090e+10             NaN                         NaN   \n",
       "222                    NaN             NaN                         NaN   \n",
       "\n",
       "     Casos covid  Unidades Vendidas  \n",
       "0              0           120511.0  \n",
       "1              0           131846.0  \n",
       "2              0           125162.0  \n",
       "3              0           130799.0  \n",
       "4              0           126942.0  \n",
       "..           ...                ...  \n",
       "218      2197488           208801.0  \n",
       "219      1910264           191853.0  \n",
       "220      1886543           206221.0  \n",
       "221      2011587           191571.0  \n",
       "222      1360714                NaN  \n",
       "\n",
       "[223 rows x 10 columns]"
      ]
     },
     "execution_count": 301,
     "metadata": {},
     "output_type": "execute_result"
    }
   ],
   "source": [
    "df"
   ]
  },
  {
   "cell_type": "code",
   "execution_count": 302,
   "metadata": {},
   "outputs": [
    {
     "name": "stdout",
     "output_type": "stream",
     "text": [
      "<class 'pandas.core.frame.DataFrame'>\n",
      "RangeIndex: 223 entries, 0 to 222\n",
      "Data columns (total 10 columns):\n",
      " #   Column                      Non-Null Count  Dtype  \n",
      "---  ------                      --------------  -----  \n",
      " 0   IGPM  Δ%                    222 non-null    float64\n",
      " 1   INPC Δ%                     222 non-null    float64\n",
      " 2   IPCA  Δ%                    222 non-null    float64\n",
      " 3   Salário minimo R$           222 non-null    float64\n",
      " 4   Taxa Celic Over % a.a       222 non-null    float64\n",
      " 5   Balança comercial US$       222 non-null    float64\n",
      " 6   PIB R$ milhões              221 non-null    float64\n",
      " 7   Produção industrial Δ% a.a  221 non-null    float64\n",
      " 8   Casos covid                 223 non-null    int64  \n",
      " 9   Unidades Vendidas           222 non-null    float64\n",
      "dtypes: float64(9), int64(1)\n",
      "memory usage: 17.5 KB\n"
     ]
    }
   ],
   "source": [
    "df.info()"
   ]
  },
  {
   "cell_type": "code",
   "execution_count": 303,
   "metadata": {},
   "outputs": [
    {
     "data": {
      "text/plain": [
       "IGPM  Δ%                      1\n",
       "INPC Δ%                       1\n",
       "IPCA  Δ%                      1\n",
       "Salário minimo R$             1\n",
       "Taxa Celic Over % a.a         1\n",
       "Balança comercial US$         1\n",
       "PIB R$ milhões                2\n",
       "Produção industrial Δ% a.a    2\n",
       "Casos covid                   0\n",
       "Unidades Vendidas             1\n",
       "dtype: int64"
      ]
     },
     "execution_count": 303,
     "metadata": {},
     "output_type": "execute_result"
    }
   ],
   "source": [
    "df.isnull().sum()"
   ]
  },
  {
   "cell_type": "code",
   "execution_count": 304,
   "metadata": {},
   "outputs": [],
   "source": [
    "## valores faltantes são poucos"
   ]
  },
  {
   "cell_type": "code",
   "execution_count": 305,
   "metadata": {},
   "outputs": [],
   "source": [
    "dataset = df.dropna()"
   ]
  },
  {
   "cell_type": "code",
   "execution_count": 306,
   "metadata": {},
   "outputs": [
    {
     "data": {
      "text/html": [
       "<div>\n",
       "<style scoped>\n",
       "    .dataframe tbody tr th:only-of-type {\n",
       "        vertical-align: middle;\n",
       "    }\n",
       "\n",
       "    .dataframe tbody tr th {\n",
       "        vertical-align: top;\n",
       "    }\n",
       "\n",
       "    .dataframe thead th {\n",
       "        text-align: right;\n",
       "    }\n",
       "</style>\n",
       "<table border=\"1\" class=\"dataframe\">\n",
       "  <thead>\n",
       "    <tr style=\"text-align: right;\">\n",
       "      <th></th>\n",
       "      <th>IGPM  Δ%</th>\n",
       "      <th>INPC Δ%</th>\n",
       "      <th>IPCA  Δ%</th>\n",
       "      <th>Salário minimo R$</th>\n",
       "      <th>Taxa Celic Over % a.a</th>\n",
       "      <th>Balança comercial US$</th>\n",
       "      <th>PIB R$ milhões</th>\n",
       "      <th>Produção industrial Δ% a.a</th>\n",
       "      <th>Casos covid</th>\n",
       "      <th>Unidades Vendidas</th>\n",
       "    </tr>\n",
       "  </thead>\n",
       "  <tbody>\n",
       "    <tr>\n",
       "      <th>0</th>\n",
       "      <td>2.33</td>\n",
       "      <td>2.47</td>\n",
       "      <td>2.25</td>\n",
       "      <td>200.0</td>\n",
       "      <td>26.38</td>\n",
       "      <td>1.040289e+09</td>\n",
       "      <td>127177.5</td>\n",
       "      <td>2.21</td>\n",
       "      <td>0</td>\n",
       "      <td>120511.0</td>\n",
       "    </tr>\n",
       "    <tr>\n",
       "      <th>1</th>\n",
       "      <td>2.28</td>\n",
       "      <td>1.46</td>\n",
       "      <td>1.57</td>\n",
       "      <td>200.0</td>\n",
       "      <td>24.31</td>\n",
       "      <td>1.008624e+09</td>\n",
       "      <td>131373.6</td>\n",
       "      <td>3.01</td>\n",
       "      <td>0</td>\n",
       "      <td>131846.0</td>\n",
       "    </tr>\n",
       "    <tr>\n",
       "      <th>2</th>\n",
       "      <td>1.53</td>\n",
       "      <td>1.37</td>\n",
       "      <td>1.23</td>\n",
       "      <td>200.0</td>\n",
       "      <td>23.58</td>\n",
       "      <td>1.422889e+09</td>\n",
       "      <td>138690.5</td>\n",
       "      <td>0.00</td>\n",
       "      <td>0</td>\n",
       "      <td>125162.0</td>\n",
       "    </tr>\n",
       "    <tr>\n",
       "      <th>3</th>\n",
       "      <td>0.92</td>\n",
       "      <td>1.38</td>\n",
       "      <td>0.97</td>\n",
       "      <td>240.0</td>\n",
       "      <td>24.90</td>\n",
       "      <td>1.600226e+09</td>\n",
       "      <td>141388.1</td>\n",
       "      <td>-3.89</td>\n",
       "      <td>0</td>\n",
       "      <td>130799.0</td>\n",
       "    </tr>\n",
       "    <tr>\n",
       "      <th>4</th>\n",
       "      <td>-0.26</td>\n",
       "      <td>0.99</td>\n",
       "      <td>0.61</td>\n",
       "      <td>240.0</td>\n",
       "      <td>26.38</td>\n",
       "      <td>2.416734e+09</td>\n",
       "      <td>139605.8</td>\n",
       "      <td>-0.87</td>\n",
       "      <td>0</td>\n",
       "      <td>126942.0</td>\n",
       "    </tr>\n",
       "    <tr>\n",
       "      <th>...</th>\n",
       "      <td>...</td>\n",
       "      <td>...</td>\n",
       "      <td>...</td>\n",
       "      <td>...</td>\n",
       "      <td>...</td>\n",
       "      <td>...</td>\n",
       "      <td>...</td>\n",
       "      <td>...</td>\n",
       "      <td>...</td>\n",
       "      <td>...</td>\n",
       "    </tr>\n",
       "    <tr>\n",
       "      <th>216</th>\n",
       "      <td>2.58</td>\n",
       "      <td>0.27</td>\n",
       "      <td>0.25</td>\n",
       "      <td>1100.0</td>\n",
       "      <td>1.81</td>\n",
       "      <td>-2.046388e+08</td>\n",
       "      <td>650694.2</td>\n",
       "      <td>2.38</td>\n",
       "      <td>1528758</td>\n",
       "      <td>180904.0</td>\n",
       "    </tr>\n",
       "    <tr>\n",
       "      <th>217</th>\n",
       "      <td>2.53</td>\n",
       "      <td>0.82</td>\n",
       "      <td>0.86</td>\n",
       "      <td>1100.0</td>\n",
       "      <td>1.57</td>\n",
       "      <td>1.822781e+09</td>\n",
       "      <td>673362.3</td>\n",
       "      <td>0.25</td>\n",
       "      <td>1346528</td>\n",
       "      <td>186718.0</td>\n",
       "    </tr>\n",
       "    <tr>\n",
       "      <th>218</th>\n",
       "      <td>2.94</td>\n",
       "      <td>0.86</td>\n",
       "      <td>0.93</td>\n",
       "      <td>1100.0</td>\n",
       "      <td>2.43</td>\n",
       "      <td>6.410389e+09</td>\n",
       "      <td>723966.1</td>\n",
       "      <td>10.53</td>\n",
       "      <td>2197488</td>\n",
       "      <td>208801.0</td>\n",
       "    </tr>\n",
       "    <tr>\n",
       "      <th>219</th>\n",
       "      <td>1.51</td>\n",
       "      <td>0.38</td>\n",
       "      <td>0.31</td>\n",
       "      <td>1100.0</td>\n",
       "      <td>2.55</td>\n",
       "      <td>9.867923e+09</td>\n",
       "      <td>682431.7</td>\n",
       "      <td>34.66</td>\n",
       "      <td>1910264</td>\n",
       "      <td>191853.0</td>\n",
       "    </tr>\n",
       "    <tr>\n",
       "      <th>220</th>\n",
       "      <td>4.10</td>\n",
       "      <td>0.96</td>\n",
       "      <td>0.83</td>\n",
       "      <td>1100.0</td>\n",
       "      <td>3.29</td>\n",
       "      <td>8.583950e+09</td>\n",
       "      <td>698842.4</td>\n",
       "      <td>24.05</td>\n",
       "      <td>1886543</td>\n",
       "      <td>206221.0</td>\n",
       "    </tr>\n",
       "  </tbody>\n",
       "</table>\n",
       "<p>221 rows × 10 columns</p>\n",
       "</div>"
      ],
      "text/plain": [
       "     IGPM  Δ%  INPC Δ%  IPCA  Δ%  Salário minimo R$  Taxa Celic Over % a.a  \\\n",
       "0        2.33     2.47      2.25              200.0                  26.38   \n",
       "1        2.28     1.46      1.57              200.0                  24.31   \n",
       "2        1.53     1.37      1.23              200.0                  23.58   \n",
       "3        0.92     1.38      0.97              240.0                  24.90   \n",
       "4       -0.26     0.99      0.61              240.0                  26.38   \n",
       "..        ...      ...       ...                ...                    ...   \n",
       "216      2.58     0.27      0.25             1100.0                   1.81   \n",
       "217      2.53     0.82      0.86             1100.0                   1.57   \n",
       "218      2.94     0.86      0.93             1100.0                   2.43   \n",
       "219      1.51     0.38      0.31             1100.0                   2.55   \n",
       "220      4.10     0.96      0.83             1100.0                   3.29   \n",
       "\n",
       "     Balança comercial US$  PIB R$ milhões  Produção industrial Δ% a.a  \\\n",
       "0             1.040289e+09        127177.5                        2.21   \n",
       "1             1.008624e+09        131373.6                        3.01   \n",
       "2             1.422889e+09        138690.5                        0.00   \n",
       "3             1.600226e+09        141388.1                       -3.89   \n",
       "4             2.416734e+09        139605.8                       -0.87   \n",
       "..                     ...             ...                         ...   \n",
       "216          -2.046388e+08        650694.2                        2.38   \n",
       "217           1.822781e+09        673362.3                        0.25   \n",
       "218           6.410389e+09        723966.1                       10.53   \n",
       "219           9.867923e+09        682431.7                       34.66   \n",
       "220           8.583950e+09        698842.4                       24.05   \n",
       "\n",
       "     Casos covid  Unidades Vendidas  \n",
       "0              0           120511.0  \n",
       "1              0           131846.0  \n",
       "2              0           125162.0  \n",
       "3              0           130799.0  \n",
       "4              0           126942.0  \n",
       "..           ...                ...  \n",
       "216      1528758           180904.0  \n",
       "217      1346528           186718.0  \n",
       "218      2197488           208801.0  \n",
       "219      1910264           191853.0  \n",
       "220      1886543           206221.0  \n",
       "\n",
       "[221 rows x 10 columns]"
      ]
     },
     "execution_count": 306,
     "metadata": {},
     "output_type": "execute_result"
    }
   ],
   "source": [
    "dataset"
   ]
  },
  {
   "cell_type": "markdown",
   "metadata": {},
   "source": [
    "## Análise significancia"
   ]
  },
  {
   "cell_type": "code",
   "execution_count": 307,
   "metadata": {},
   "outputs": [],
   "source": [
    "##SEPARANDO AS VARIAVEIS X e Y\n",
    "X = dataset.iloc[:,:-1]\n",
    "y = dataset['Unidades Vendidas'].values"
   ]
  },
  {
   "cell_type": "code",
   "execution_count": 308,
   "metadata": {},
   "outputs": [],
   "source": [
    "Xc = sm.add_constant(X)\n",
    "modelo_v1 = sm.OLS(y, Xc)\n",
    "modelo_v2 = modelo_v1.fit()"
   ]
  },
  {
   "cell_type": "code",
   "execution_count": 309,
   "metadata": {},
   "outputs": [
    {
     "data": {
      "text/html": [
       "<table class=\"simpletable\">\n",
       "<caption>OLS Regression Results</caption>\n",
       "<tr>\n",
       "  <th>Dep. Variable:</th>            <td>y</td>        <th>  R-squared:         </th> <td>   0.702</td>\n",
       "</tr>\n",
       "<tr>\n",
       "  <th>Model:</th>                   <td>OLS</td>       <th>  Adj. R-squared:    </th> <td>   0.689</td>\n",
       "</tr>\n",
       "<tr>\n",
       "  <th>Method:</th>             <td>Least Squares</td>  <th>  F-statistic:       </th> <td>   55.16</td>\n",
       "</tr>\n",
       "<tr>\n",
       "  <th>Date:</th>             <td>Fri, 06 Aug 2021</td> <th>  Prob (F-statistic):</th> <td>1.21e-50</td>\n",
       "</tr>\n",
       "<tr>\n",
       "  <th>Time:</th>                 <td>22:54:20</td>     <th>  Log-Likelihood:    </th> <td> -2581.1</td>\n",
       "</tr>\n",
       "<tr>\n",
       "  <th>No. Observations:</th>      <td>   221</td>      <th>  AIC:               </th> <td>   5182.</td>\n",
       "</tr>\n",
       "<tr>\n",
       "  <th>Df Residuals:</th>          <td>   211</td>      <th>  BIC:               </th> <td>   5216.</td>\n",
       "</tr>\n",
       "<tr>\n",
       "  <th>Df Model:</th>              <td>     9</td>      <th>                     </th>     <td> </td>   \n",
       "</tr>\n",
       "<tr>\n",
       "  <th>Covariance Type:</th>      <td>nonrobust</td>    <th>                     </th>     <td> </td>   \n",
       "</tr>\n",
       "</table>\n",
       "<table class=\"simpletable\">\n",
       "<tr>\n",
       "               <td></td>                 <th>coef</th>     <th>std err</th>      <th>t</th>      <th>P>|t|</th>  <th>[0.025</th>    <th>0.975]</th>  \n",
       "</tr>\n",
       "<tr>\n",
       "  <th>const</th>                      <td> 3.065e+05</td> <td> 1.36e+04</td> <td>   22.614</td> <td> 0.000</td> <td>  2.8e+05</td> <td> 3.33e+05</td>\n",
       "</tr>\n",
       "<tr>\n",
       "  <th>IGPM  Δ%</th>                   <td> -1.04e+04</td> <td> 3467.014</td> <td>   -3.000</td> <td> 0.003</td> <td>-1.72e+04</td> <td>-3567.923</td>\n",
       "</tr>\n",
       "<tr>\n",
       "  <th>INPC Δ%</th>                    <td> 4.056e+04</td> <td> 1.75e+04</td> <td>    2.319</td> <td> 0.021</td> <td> 6087.571</td> <td>  7.5e+04</td>\n",
       "</tr>\n",
       "<tr>\n",
       "  <th>IPCA  Δ%</th>                   <td> -4.56e+04</td> <td> 1.98e+04</td> <td>   -2.302</td> <td> 0.022</td> <td>-8.47e+04</td> <td>-6548.997</td>\n",
       "</tr>\n",
       "<tr>\n",
       "  <th>Salário minimo R$</th>          <td> -802.2691</td> <td>   53.137</td> <td>  -15.098</td> <td> 0.000</td> <td> -907.017</td> <td> -697.521</td>\n",
       "</tr>\n",
       "<tr>\n",
       "  <th>Taxa Celic Over % a.a</th>      <td>-6203.6100</td> <td>  644.076</td> <td>   -9.632</td> <td> 0.000</td> <td>-7473.257</td> <td>-4933.963</td>\n",
       "</tr>\n",
       "<tr>\n",
       "  <th>Balança comercial US$</th>      <td> 2.045e-07</td> <td> 1.07e-06</td> <td>    0.191</td> <td> 0.849</td> <td>-1.91e-06</td> <td> 2.32e-06</td>\n",
       "</tr>\n",
       "<tr>\n",
       "  <th>PIB R$ milhões</th>             <td>    1.3152</td> <td>    0.087</td> <td>   15.072</td> <td> 0.000</td> <td>    1.143</td> <td>    1.487</td>\n",
       "</tr>\n",
       "<tr>\n",
       "  <th>Produção industrial Δ% a.a</th> <td> 1325.4733</td> <td>  309.754</td> <td>    4.279</td> <td> 0.000</td> <td>  714.864</td> <td> 1936.082</td>\n",
       "</tr>\n",
       "<tr>\n",
       "  <th>Casos covid</th>                <td>   -0.0623</td> <td>    0.008</td> <td>   -7.479</td> <td> 0.000</td> <td>   -0.079</td> <td>   -0.046</td>\n",
       "</tr>\n",
       "</table>\n",
       "<table class=\"simpletable\">\n",
       "<tr>\n",
       "  <th>Omnibus:</th>       <td> 2.290</td> <th>  Durbin-Watson:     </th> <td>   0.976</td>\n",
       "</tr>\n",
       "<tr>\n",
       "  <th>Prob(Omnibus):</th> <td> 0.318</td> <th>  Jarque-Bera (JB):  </th> <td>   1.953</td>\n",
       "</tr>\n",
       "<tr>\n",
       "  <th>Skew:</th>          <td>-0.156</td> <th>  Prob(JB):          </th> <td>   0.377</td>\n",
       "</tr>\n",
       "<tr>\n",
       "  <th>Kurtosis:</th>      <td> 3.339</td> <th>  Cond. No.          </th> <td>4.29e+10</td>\n",
       "</tr>\n",
       "</table><br/><br/>Warnings:<br/>[1] Standard Errors assume that the covariance matrix of the errors is correctly specified.<br/>[2] The condition number is large, 4.29e+10. This might indicate that there are<br/>strong multicollinearity or other numerical problems."
      ],
      "text/plain": [
       "<class 'statsmodels.iolib.summary.Summary'>\n",
       "\"\"\"\n",
       "                            OLS Regression Results                            \n",
       "==============================================================================\n",
       "Dep. Variable:                      y   R-squared:                       0.702\n",
       "Model:                            OLS   Adj. R-squared:                  0.689\n",
       "Method:                 Least Squares   F-statistic:                     55.16\n",
       "Date:                Fri, 06 Aug 2021   Prob (F-statistic):           1.21e-50\n",
       "Time:                        22:54:20   Log-Likelihood:                -2581.1\n",
       "No. Observations:                 221   AIC:                             5182.\n",
       "Df Residuals:                     211   BIC:                             5216.\n",
       "Df Model:                           9                                         \n",
       "Covariance Type:            nonrobust                                         \n",
       "==============================================================================================\n",
       "                                 coef    std err          t      P>|t|      [0.025      0.975]\n",
       "----------------------------------------------------------------------------------------------\n",
       "const                       3.065e+05   1.36e+04     22.614      0.000     2.8e+05    3.33e+05\n",
       "IGPM  Δ%                    -1.04e+04   3467.014     -3.000      0.003   -1.72e+04   -3567.923\n",
       "INPC Δ%                     4.056e+04   1.75e+04      2.319      0.021    6087.571     7.5e+04\n",
       "IPCA  Δ%                    -4.56e+04   1.98e+04     -2.302      0.022   -8.47e+04   -6548.997\n",
       "Salário minimo R$           -802.2691     53.137    -15.098      0.000    -907.017    -697.521\n",
       "Taxa Celic Over % a.a      -6203.6100    644.076     -9.632      0.000   -7473.257   -4933.963\n",
       "Balança comercial US$       2.045e-07   1.07e-06      0.191      0.849   -1.91e-06    2.32e-06\n",
       "PIB R$ milhões                 1.3152      0.087     15.072      0.000       1.143       1.487\n",
       "Produção industrial Δ% a.a  1325.4733    309.754      4.279      0.000     714.864    1936.082\n",
       "Casos covid                   -0.0623      0.008     -7.479      0.000      -0.079      -0.046\n",
       "==============================================================================\n",
       "Omnibus:                        2.290   Durbin-Watson:                   0.976\n",
       "Prob(Omnibus):                  0.318   Jarque-Bera (JB):                1.953\n",
       "Skew:                          -0.156   Prob(JB):                        0.377\n",
       "Kurtosis:                       3.339   Cond. No.                     4.29e+10\n",
       "==============================================================================\n",
       "\n",
       "Warnings:\n",
       "[1] Standard Errors assume that the covariance matrix of the errors is correctly specified.\n",
       "[2] The condition number is large, 4.29e+10. This might indicate that there are\n",
       "strong multicollinearity or other numerical problems.\n",
       "\"\"\""
      ]
     },
     "execution_count": 309,
     "metadata": {},
     "output_type": "execute_result"
    }
   ],
   "source": [
    "modelo_v2.summary()"
   ]
  },
  {
   "cell_type": "markdown",
   "metadata": {},
   "source": [
    "## Retirando balança comercial, p > 0,05"
   ]
  },
  {
   "cell_type": "code",
   "execution_count": 310,
   "metadata": {},
   "outputs": [],
   "source": [
    "datasetclean = dataset.drop(['Balança comercial US$'], 1, inplace = False)"
   ]
  },
  {
   "cell_type": "code",
   "execution_count": 311,
   "metadata": {},
   "outputs": [],
   "source": [
    "dataf = datasetclean"
   ]
  },
  {
   "cell_type": "code",
   "execution_count": 312,
   "metadata": {},
   "outputs": [
    {
     "data": {
      "text/html": [
       "<div>\n",
       "<style scoped>\n",
       "    .dataframe tbody tr th:only-of-type {\n",
       "        vertical-align: middle;\n",
       "    }\n",
       "\n",
       "    .dataframe tbody tr th {\n",
       "        vertical-align: top;\n",
       "    }\n",
       "\n",
       "    .dataframe thead th {\n",
       "        text-align: right;\n",
       "    }\n",
       "</style>\n",
       "<table border=\"1\" class=\"dataframe\">\n",
       "  <thead>\n",
       "    <tr style=\"text-align: right;\">\n",
       "      <th></th>\n",
       "      <th>IGPM  Δ%</th>\n",
       "      <th>INPC Δ%</th>\n",
       "      <th>IPCA  Δ%</th>\n",
       "      <th>Salário minimo R$</th>\n",
       "      <th>Taxa Celic Over % a.a</th>\n",
       "      <th>PIB R$ milhões</th>\n",
       "      <th>Produção industrial Δ% a.a</th>\n",
       "      <th>Casos covid</th>\n",
       "      <th>Unidades Vendidas</th>\n",
       "    </tr>\n",
       "  </thead>\n",
       "  <tbody>\n",
       "    <tr>\n",
       "      <th>0</th>\n",
       "      <td>2.33</td>\n",
       "      <td>2.47</td>\n",
       "      <td>2.25</td>\n",
       "      <td>200.0</td>\n",
       "      <td>26.38</td>\n",
       "      <td>127177.5</td>\n",
       "      <td>2.21</td>\n",
       "      <td>0</td>\n",
       "      <td>120511.0</td>\n",
       "    </tr>\n",
       "    <tr>\n",
       "      <th>1</th>\n",
       "      <td>2.28</td>\n",
       "      <td>1.46</td>\n",
       "      <td>1.57</td>\n",
       "      <td>200.0</td>\n",
       "      <td>24.31</td>\n",
       "      <td>131373.6</td>\n",
       "      <td>3.01</td>\n",
       "      <td>0</td>\n",
       "      <td>131846.0</td>\n",
       "    </tr>\n",
       "    <tr>\n",
       "      <th>2</th>\n",
       "      <td>1.53</td>\n",
       "      <td>1.37</td>\n",
       "      <td>1.23</td>\n",
       "      <td>200.0</td>\n",
       "      <td>23.58</td>\n",
       "      <td>138690.5</td>\n",
       "      <td>0.00</td>\n",
       "      <td>0</td>\n",
       "      <td>125162.0</td>\n",
       "    </tr>\n",
       "    <tr>\n",
       "      <th>3</th>\n",
       "      <td>0.92</td>\n",
       "      <td>1.38</td>\n",
       "      <td>0.97</td>\n",
       "      <td>240.0</td>\n",
       "      <td>24.90</td>\n",
       "      <td>141388.1</td>\n",
       "      <td>-3.89</td>\n",
       "      <td>0</td>\n",
       "      <td>130799.0</td>\n",
       "    </tr>\n",
       "    <tr>\n",
       "      <th>4</th>\n",
       "      <td>-0.26</td>\n",
       "      <td>0.99</td>\n",
       "      <td>0.61</td>\n",
       "      <td>240.0</td>\n",
       "      <td>26.38</td>\n",
       "      <td>139605.8</td>\n",
       "      <td>-0.87</td>\n",
       "      <td>0</td>\n",
       "      <td>126942.0</td>\n",
       "    </tr>\n",
       "    <tr>\n",
       "      <th>...</th>\n",
       "      <td>...</td>\n",
       "      <td>...</td>\n",
       "      <td>...</td>\n",
       "      <td>...</td>\n",
       "      <td>...</td>\n",
       "      <td>...</td>\n",
       "      <td>...</td>\n",
       "      <td>...</td>\n",
       "      <td>...</td>\n",
       "    </tr>\n",
       "    <tr>\n",
       "      <th>216</th>\n",
       "      <td>2.58</td>\n",
       "      <td>0.27</td>\n",
       "      <td>0.25</td>\n",
       "      <td>1100.0</td>\n",
       "      <td>1.81</td>\n",
       "      <td>650694.2</td>\n",
       "      <td>2.38</td>\n",
       "      <td>1528758</td>\n",
       "      <td>180904.0</td>\n",
       "    </tr>\n",
       "    <tr>\n",
       "      <th>217</th>\n",
       "      <td>2.53</td>\n",
       "      <td>0.82</td>\n",
       "      <td>0.86</td>\n",
       "      <td>1100.0</td>\n",
       "      <td>1.57</td>\n",
       "      <td>673362.3</td>\n",
       "      <td>0.25</td>\n",
       "      <td>1346528</td>\n",
       "      <td>186718.0</td>\n",
       "    </tr>\n",
       "    <tr>\n",
       "      <th>218</th>\n",
       "      <td>2.94</td>\n",
       "      <td>0.86</td>\n",
       "      <td>0.93</td>\n",
       "      <td>1100.0</td>\n",
       "      <td>2.43</td>\n",
       "      <td>723966.1</td>\n",
       "      <td>10.53</td>\n",
       "      <td>2197488</td>\n",
       "      <td>208801.0</td>\n",
       "    </tr>\n",
       "    <tr>\n",
       "      <th>219</th>\n",
       "      <td>1.51</td>\n",
       "      <td>0.38</td>\n",
       "      <td>0.31</td>\n",
       "      <td>1100.0</td>\n",
       "      <td>2.55</td>\n",
       "      <td>682431.7</td>\n",
       "      <td>34.66</td>\n",
       "      <td>1910264</td>\n",
       "      <td>191853.0</td>\n",
       "    </tr>\n",
       "    <tr>\n",
       "      <th>220</th>\n",
       "      <td>4.10</td>\n",
       "      <td>0.96</td>\n",
       "      <td>0.83</td>\n",
       "      <td>1100.0</td>\n",
       "      <td>3.29</td>\n",
       "      <td>698842.4</td>\n",
       "      <td>24.05</td>\n",
       "      <td>1886543</td>\n",
       "      <td>206221.0</td>\n",
       "    </tr>\n",
       "  </tbody>\n",
       "</table>\n",
       "<p>221 rows × 9 columns</p>\n",
       "</div>"
      ],
      "text/plain": [
       "     IGPM  Δ%  INPC Δ%  IPCA  Δ%  Salário minimo R$  Taxa Celic Over % a.a  \\\n",
       "0        2.33     2.47      2.25              200.0                  26.38   \n",
       "1        2.28     1.46      1.57              200.0                  24.31   \n",
       "2        1.53     1.37      1.23              200.0                  23.58   \n",
       "3        0.92     1.38      0.97              240.0                  24.90   \n",
       "4       -0.26     0.99      0.61              240.0                  26.38   \n",
       "..        ...      ...       ...                ...                    ...   \n",
       "216      2.58     0.27      0.25             1100.0                   1.81   \n",
       "217      2.53     0.82      0.86             1100.0                   1.57   \n",
       "218      2.94     0.86      0.93             1100.0                   2.43   \n",
       "219      1.51     0.38      0.31             1100.0                   2.55   \n",
       "220      4.10     0.96      0.83             1100.0                   3.29   \n",
       "\n",
       "     PIB R$ milhões  Produção industrial Δ% a.a  Casos covid  \\\n",
       "0          127177.5                        2.21            0   \n",
       "1          131373.6                        3.01            0   \n",
       "2          138690.5                        0.00            0   \n",
       "3          141388.1                       -3.89            0   \n",
       "4          139605.8                       -0.87            0   \n",
       "..              ...                         ...          ...   \n",
       "216        650694.2                        2.38      1528758   \n",
       "217        673362.3                        0.25      1346528   \n",
       "218        723966.1                       10.53      2197488   \n",
       "219        682431.7                       34.66      1910264   \n",
       "220        698842.4                       24.05      1886543   \n",
       "\n",
       "     Unidades Vendidas  \n",
       "0             120511.0  \n",
       "1             131846.0  \n",
       "2             125162.0  \n",
       "3             130799.0  \n",
       "4             126942.0  \n",
       "..                 ...  \n",
       "216           180904.0  \n",
       "217           186718.0  \n",
       "218           208801.0  \n",
       "219           191853.0  \n",
       "220           206221.0  \n",
       "\n",
       "[221 rows x 9 columns]"
      ]
     },
     "execution_count": 312,
     "metadata": {},
     "output_type": "execute_result"
    }
   ],
   "source": [
    "dataf"
   ]
  },
  {
   "cell_type": "code",
   "execution_count": 313,
   "metadata": {},
   "outputs": [],
   "source": [
    "##SEPARANDO AS VARIAVEIS X e Y \n",
    "X = dataf.iloc[:,:-1]\n",
    "y = dataf['Unidades Vendidas'].values"
   ]
  },
  {
   "cell_type": "markdown",
   "metadata": {},
   "source": [
    "## Modelo Regressão com STATS MODELS"
   ]
  },
  {
   "cell_type": "code",
   "execution_count": 314,
   "metadata": {},
   "outputs": [],
   "source": [
    "## Foco em estatistica\n",
    "Xc = sm.add_constant(X)\n",
    "modelo_v1 = sm.OLS(y, Xc)\n",
    "modelo_v2 = modelo_v1.fit()"
   ]
  },
  {
   "cell_type": "code",
   "execution_count": 315,
   "metadata": {},
   "outputs": [
    {
     "data": {
      "text/html": [
       "<table class=\"simpletable\">\n",
       "<caption>OLS Regression Results</caption>\n",
       "<tr>\n",
       "  <th>Dep. Variable:</th>            <td>y</td>        <th>  R-squared:         </th> <td>   0.702</td>\n",
       "</tr>\n",
       "<tr>\n",
       "  <th>Model:</th>                   <td>OLS</td>       <th>  Adj. R-squared:    </th> <td>   0.690</td>\n",
       "</tr>\n",
       "<tr>\n",
       "  <th>Method:</th>             <td>Least Squares</td>  <th>  F-statistic:       </th> <td>   62.34</td>\n",
       "</tr>\n",
       "<tr>\n",
       "  <th>Date:</th>             <td>Fri, 06 Aug 2021</td> <th>  Prob (F-statistic):</th> <td>1.51e-51</td>\n",
       "</tr>\n",
       "<tr>\n",
       "  <th>Time:</th>                 <td>22:54:24</td>     <th>  Log-Likelihood:    </th> <td> -2581.1</td>\n",
       "</tr>\n",
       "<tr>\n",
       "  <th>No. Observations:</th>      <td>   221</td>      <th>  AIC:               </th> <td>   5180.</td>\n",
       "</tr>\n",
       "<tr>\n",
       "  <th>Df Residuals:</th>          <td>   212</td>      <th>  BIC:               </th> <td>   5211.</td>\n",
       "</tr>\n",
       "<tr>\n",
       "  <th>Df Model:</th>              <td>     8</td>      <th>                     </th>     <td> </td>   \n",
       "</tr>\n",
       "<tr>\n",
       "  <th>Covariance Type:</th>      <td>nonrobust</td>    <th>                     </th>     <td> </td>   \n",
       "</tr>\n",
       "</table>\n",
       "<table class=\"simpletable\">\n",
       "<tr>\n",
       "               <td></td>                 <th>coef</th>     <th>std err</th>      <th>t</th>      <th>P>|t|</th>  <th>[0.025</th>    <th>0.975]</th>  \n",
       "</tr>\n",
       "<tr>\n",
       "  <th>const</th>                      <td> 3.065e+05</td> <td> 1.35e+04</td> <td>   22.668</td> <td> 0.000</td> <td>  2.8e+05</td> <td> 3.33e+05</td>\n",
       "</tr>\n",
       "<tr>\n",
       "  <th>IGPM  Δ%</th>                   <td> -1.03e+04</td> <td> 3414.299</td> <td>   -3.016</td> <td> 0.003</td> <td> -1.7e+04</td> <td>-3566.026</td>\n",
       "</tr>\n",
       "<tr>\n",
       "  <th>INPC Δ%</th>                    <td>  4.04e+04</td> <td> 1.74e+04</td> <td>    2.318</td> <td> 0.021</td> <td> 6045.778</td> <td> 7.48e+04</td>\n",
       "</tr>\n",
       "<tr>\n",
       "  <th>IPCA  Δ%</th>                   <td>-4.591e+04</td> <td> 1.97e+04</td> <td>   -2.331</td> <td> 0.021</td> <td>-8.47e+04</td> <td>-7081.914</td>\n",
       "</tr>\n",
       "<tr>\n",
       "  <th>Salário minimo R$</th>          <td> -799.3936</td> <td>   50.833</td> <td>  -15.726</td> <td> 0.000</td> <td> -899.596</td> <td> -699.191</td>\n",
       "</tr>\n",
       "<tr>\n",
       "  <th>Taxa Celic Over % a.a</th>      <td>-6170.8619</td> <td>  619.304</td> <td>   -9.964</td> <td> 0.000</td> <td>-7391.644</td> <td>-4950.080</td>\n",
       "</tr>\n",
       "<tr>\n",
       "  <th>PIB R$ milhões</th>             <td>    1.3111</td> <td>    0.084</td> <td>   15.537</td> <td> 0.000</td> <td>    1.145</td> <td>    1.477</td>\n",
       "</tr>\n",
       "<tr>\n",
       "  <th>Produção industrial Δ% a.a</th> <td> 1331.2836</td> <td>  307.548</td> <td>    4.329</td> <td> 0.000</td> <td>  725.040</td> <td> 1937.527</td>\n",
       "</tr>\n",
       "<tr>\n",
       "  <th>Casos covid</th>                <td>   -0.0618</td> <td>    0.008</td> <td>   -7.739</td> <td> 0.000</td> <td>   -0.078</td> <td>   -0.046</td>\n",
       "</tr>\n",
       "</table>\n",
       "<table class=\"simpletable\">\n",
       "<tr>\n",
       "  <th>Omnibus:</th>       <td> 2.219</td> <th>  Durbin-Watson:     </th> <td>   0.976</td>\n",
       "</tr>\n",
       "<tr>\n",
       "  <th>Prob(Omnibus):</th> <td> 0.330</td> <th>  Jarque-Bera (JB):  </th> <td>   1.881</td>\n",
       "</tr>\n",
       "<tr>\n",
       "  <th>Skew:</th>          <td>-0.151</td> <th>  Prob(JB):          </th> <td>   0.390</td>\n",
       "</tr>\n",
       "<tr>\n",
       "  <th>Kurtosis:</th>      <td> 3.336</td> <th>  Cond. No.          </th> <td>5.89e+06</td>\n",
       "</tr>\n",
       "</table><br/><br/>Warnings:<br/>[1] Standard Errors assume that the covariance matrix of the errors is correctly specified.<br/>[2] The condition number is large, 5.89e+06. This might indicate that there are<br/>strong multicollinearity or other numerical problems."
      ],
      "text/plain": [
       "<class 'statsmodels.iolib.summary.Summary'>\n",
       "\"\"\"\n",
       "                            OLS Regression Results                            \n",
       "==============================================================================\n",
       "Dep. Variable:                      y   R-squared:                       0.702\n",
       "Model:                            OLS   Adj. R-squared:                  0.690\n",
       "Method:                 Least Squares   F-statistic:                     62.34\n",
       "Date:                Fri, 06 Aug 2021   Prob (F-statistic):           1.51e-51\n",
       "Time:                        22:54:24   Log-Likelihood:                -2581.1\n",
       "No. Observations:                 221   AIC:                             5180.\n",
       "Df Residuals:                     212   BIC:                             5211.\n",
       "Df Model:                           8                                         \n",
       "Covariance Type:            nonrobust                                         \n",
       "==============================================================================================\n",
       "                                 coef    std err          t      P>|t|      [0.025      0.975]\n",
       "----------------------------------------------------------------------------------------------\n",
       "const                       3.065e+05   1.35e+04     22.668      0.000     2.8e+05    3.33e+05\n",
       "IGPM  Δ%                    -1.03e+04   3414.299     -3.016      0.003    -1.7e+04   -3566.026\n",
       "INPC Δ%                      4.04e+04   1.74e+04      2.318      0.021    6045.778    7.48e+04\n",
       "IPCA  Δ%                   -4.591e+04   1.97e+04     -2.331      0.021   -8.47e+04   -7081.914\n",
       "Salário minimo R$           -799.3936     50.833    -15.726      0.000    -899.596    -699.191\n",
       "Taxa Celic Over % a.a      -6170.8619    619.304     -9.964      0.000   -7391.644   -4950.080\n",
       "PIB R$ milhões                 1.3111      0.084     15.537      0.000       1.145       1.477\n",
       "Produção industrial Δ% a.a  1331.2836    307.548      4.329      0.000     725.040    1937.527\n",
       "Casos covid                   -0.0618      0.008     -7.739      0.000      -0.078      -0.046\n",
       "==============================================================================\n",
       "Omnibus:                        2.219   Durbin-Watson:                   0.976\n",
       "Prob(Omnibus):                  0.330   Jarque-Bera (JB):                1.881\n",
       "Skew:                          -0.151   Prob(JB):                        0.390\n",
       "Kurtosis:                       3.336   Cond. No.                     5.89e+06\n",
       "==============================================================================\n",
       "\n",
       "Warnings:\n",
       "[1] Standard Errors assume that the covariance matrix of the errors is correctly specified.\n",
       "[2] The condition number is large, 5.89e+06. This might indicate that there are\n",
       "strong multicollinearity or other numerical problems.\n",
       "\"\"\""
      ]
     },
     "execution_count": 315,
     "metadata": {},
     "output_type": "execute_result"
    }
   ],
   "source": [
    "modelo_v2.summary()"
   ]
  },
  {
   "cell_type": "markdown",
   "metadata": {},
   "source": [
    "## Regressão Stats Models"
   ]
  },
  {
   "cell_type": "code",
   "execution_count": 316,
   "metadata": {},
   "outputs": [
    {
     "data": {
      "text/plain": [
       "const                         306483.087700\n",
       "IGPM  Δ%                      -10296.351235\n",
       "INPC Δ%                        40399.914674\n",
       "IPCA  Δ%                      -45912.309196\n",
       "Salário minimo R$               -799.393557\n",
       "Taxa Celic Over % a.a          -6170.861925\n",
       "PIB R$ milhões                     1.311143\n",
       "Produção industrial Δ% a.a      1331.283628\n",
       "Casos covid                       -0.061846\n",
       "dtype: float64"
      ]
     },
     "execution_count": 316,
     "metadata": {},
     "output_type": "execute_result"
    }
   ],
   "source": [
    "modelo_v2.params"
   ]
  },
  {
   "cell_type": "code",
   "execution_count": 317,
   "metadata": {},
   "outputs": [],
   "source": [
    "previsao = modelo_v2.predict(Xc)"
   ]
  },
  {
   "cell_type": "code",
   "execution_count": 318,
   "metadata": {},
   "outputs": [
    {
     "data": {
      "text/plain": [
       "0      126001.608495\n",
       "1      136273.279030\n",
       "2      166060.800021\n",
       "3      142919.738765\n",
       "4      148392.649266\n",
       "           ...      \n",
       "216    150619.500348\n",
       "217    184984.502789\n",
       "218    201263.835540\n",
       "219    219750.889283\n",
       "220    196933.356747\n",
       "Length: 221, dtype: float64"
      ]
     },
     "execution_count": 318,
     "metadata": {},
     "output_type": "execute_result"
    }
   ],
   "source": [
    "previsao"
   ]
  },
  {
   "cell_type": "code",
   "execution_count": 319,
   "metadata": {},
   "outputs": [
    {
     "data": {
      "text/plain": [
       "[<matplotlib.lines.Line2D at 0x281eb886248>]"
      ]
     },
     "execution_count": 319,
     "metadata": {},
     "output_type": "execute_result"
    },
    {
     "data": {
      "image/png": "[encoded data removed]",
      "text/plain": [
       "<Figure size 432x288 with 1 Axes>"
      ]
     },
     "metadata": {
      "needs_background": "light"
     },
     "output_type": "display_data"
    }
   ],
   "source": [
    "plt.plot(previsao)\n",
    "plt.plot(y)"
   ]
  },
  {
   "cell_type": "markdown",
   "metadata": {},
   "source": [
    "#### Prevendo o modelo com dados novos, teste"
   ]
  },
  {
   "cell_type": "code",
   "execution_count": 320,
   "metadata": {},
   "outputs": [],
   "source": [
    "from sklearn.metrics import mean_squared_error\n",
    "from math import sqrt"
   ]
  },
  {
   "cell_type": "code",
   "execution_count": 321,
   "metadata": {},
   "outputs": [],
   "source": [
    "X_train, X_test, y_train, y_test = ms.train_test_split(X, y, test_size = 0.2, random_state = 0)\n",
    "Xc = sm.add_constant(X_train)\n",
    "Xb = sm.add_constant(X_test)\n",
    "\n",
    "modelo_v1 = sm.OLS(y_train, Xc)\n",
    "modelo_v2 = modelo_v1.fit()\n"
   ]
  },
  {
   "cell_type": "code",
   "execution_count": 322,
   "metadata": {},
   "outputs": [],
   "source": [
    "z = modelo_v2.predict(Xb)"
   ]
  },
  {
   "cell_type": "code",
   "execution_count": 323,
   "metadata": {},
   "outputs": [
    {
     "name": "stdout",
     "output_type": "stream",
     "text": [
      "31804\n"
     ]
    }
   ],
   "source": [
    "rmse = sqrt(mean_squared_error(y_test,z))\n",
    "print(int(rmse))"
   ]
  },
  {
   "cell_type": "markdown",
   "metadata": {},
   "source": [
    "## Regressao Machine Learning"
   ]
  },
  {
   "cell_type": "code",
   "execution_count": 324,
   "metadata": {},
   "outputs": [],
   "source": [
    "from sklearn import linear_model"
   ]
  },
  {
   "cell_type": "code",
   "execution_count": 325,
   "metadata": {},
   "outputs": [],
   "source": [
    "modelo = linear_model.LinearRegression(normalize = False, fit_intercept = True)"
   ]
  },
  {
   "cell_type": "code",
   "execution_count": 326,
   "metadata": {},
   "outputs": [],
   "source": [
    "num_observ = len(dataf)\n",
    "X = dataf.iloc[:,:-1].values\n",
    "y = dataf['Unidades Vendidas'].values"
   ]
  },
  {
   "cell_type": "code",
   "execution_count": 327,
   "metadata": {},
   "outputs": [],
   "source": [
    "from sklearn import model_selection as ms\n",
    "X_train, X_test, y_train, y_test = ms.train_test_split(X, y, test_size = 0.2, random_state = 0)"
   ]
  },
  {
   "cell_type": "code",
   "execution_count": 328,
   "metadata": {},
   "outputs": [
    {
     "data": {
      "text/plain": [
       "LinearRegression(copy_X=True, fit_intercept=True, n_jobs=None, normalize=False)"
      ]
     },
     "execution_count": 328,
     "metadata": {},
     "output_type": "execute_result"
    }
   ],
   "source": [
    "modelo.fit(X_train,y_train)"
   ]
  },
  {
   "cell_type": "code",
   "execution_count": 329,
   "metadata": {},
   "outputs": [
    {
     "name": "stdout",
     "output_type": "stream",
     "text": [
      "[-8.93156514e+03  3.74235801e+04 -4.69034048e+04 -8.25956758e+02\n",
      " -6.02508254e+03  1.36190949e+00  1.59522003e+03 -6.50594429e-02]\n"
     ]
    }
   ],
   "source": [
    "print(modelo.coef_)"
   ]
  },
  {
   "cell_type": "code",
   "execution_count": 330,
   "metadata": {},
   "outputs": [
    {
     "name": "stdout",
     "output_type": "stream",
     "text": [
      "302287.11507821246\n"
     ]
    }
   ],
   "source": [
    "print(modelo.intercept_)"
   ]
  },
  {
   "cell_type": "code",
   "execution_count": 331,
   "metadata": {},
   "outputs": [],
   "source": [
    "## Equação igual ao modelo de estatistica"
   ]
  },
  {
   "cell_type": "code",
   "execution_count": 332,
   "metadata": {},
   "outputs": [],
   "source": [
    "w = modelo.predict(X_test)"
   ]
  },
  {
   "cell_type": "code",
   "execution_count": 333,
   "metadata": {},
   "outputs": [],
   "source": [
    "from sklearn.metrics import mean_squared_error\n",
    "from math import sqrt\n",
    "\n",
    "rmse = sqrt(mean_squared_error(y_test,w))"
   ]
  },
  {
   "cell_type": "code",
   "execution_count": 334,
   "metadata": {},
   "outputs": [
    {
     "name": "stdout",
     "output_type": "stream",
     "text": [
      "31804\n"
     ]
    }
   ],
   "source": [
    "print(int(rmse))"
   ]
  },
  {
   "cell_type": "code",
   "execution_count": 335,
   "metadata": {},
   "outputs": [
    {
     "data": {
      "text/plain": [
       "[<matplotlib.lines.Line2D at 0x281eb93da48>]"
      ]
     },
     "execution_count": 335,
     "metadata": {},
     "output_type": "execute_result"
    },
    {
     "data": {
      "image/png": "[encoded data removed]",
      "text/plain": [
       "<Figure size 432x288 with 1 Axes>"
      ]
     },
     "metadata": {
      "needs_background": "light"
     },
     "output_type": "display_data"
    }
   ],
   "source": [
    "b = modelo.predict(X)\n",
    "plt.plot(b)\n",
    "plt.plot(y)"
   ]
  },
  {
   "cell_type": "code",
   "execution_count": 336,
   "metadata": {},
   "outputs": [
    {
     "data": {
      "text/plain": [
       "[<matplotlib.lines.Line2D at 0x281eb986c88>]"
      ]
     },
     "execution_count": 336,
     "metadata": {},
     "output_type": "execute_result"
    },
    {
     "data": {
      "image/png": "[encoded data removed]",
      "text/plain": [
       "<Figure size 432x288 with 1 Axes>"
      ]
     },
     "metadata": {
      "needs_background": "light"
     },
     "output_type": "display_data"
    }
   ],
   "source": [
    "plt.plot(w)\n",
    "plt.plot(y_test)"
   ]
  },
  {
   "cell_type": "markdown",
   "metadata": {},
   "source": [
    "RMSE está no intervalo 0-infinito e retorna a magnitude dos erros e não sua direção\n",
    "Quanto menor, melhor."
   ]
  },
  {
   "cell_type": "code",
   "execution_count": 267,
   "metadata": {},
   "outputs": [],
   "source": [
    "## observação, testei retirando as variaveis multicolineares\n",
    "## a cada remoção o erro so aumentava\n",
    "## deixei as multicolineares e retirei apenas as nao significativas"
   ]
  },
  {
   "cell_type": "code",
   "execution_count": 268,
   "metadata": {},
   "outputs": [],
   "source": [
    "## FAZER GRAFICOS COMPARATIVOS\n",
    "## FAZER GRAFICO SEPARADOS DOS 3 CENARIOS"
   ]
  },
  {
   "cell_type": "markdown",
   "metadata": {},
   "source": [
    "## Importancia dos atributos no modelo preditivo"
   ]
  },
  {
   "cell_type": "code",
   "execution_count": 269,
   "metadata": {},
   "outputs": [
    {
     "name": "stdout",
     "output_type": "stream",
     "text": [
      "45912.309 IPCA  Δ%\n",
      "40399.915 INPC Δ%\n",
      "10296.351 IGPM  Δ%\n",
      "6170.862 Taxa Celic Over % a.a\n",
      "1331.284 Produção industrial Δ% a.a\n",
      "799.394 Salário minimo R$\n",
      " 1.311 PIB R$ milhões\n",
      " 0.062 Casos covid\n"
     ]
    }
   ],
   "source": [
    "modelo.fit(X,y)\n",
    "for coef, var in sorted(zip(map(abs, modelo.coef_), dataf.columns[:-1]), reverse = True):\n",
    "    print (\"%6.3f %s\" % (coef,var))"
   ]
  },
  {
   "cell_type": "code",
   "execution_count": 270,
   "metadata": {},
   "outputs": [],
   "source": [
    "standardization = StandardScaler()\n",
    "Stand_coef_linear_reg = make_pipeline(standardization, modelo)"
   ]
  },
  {
   "cell_type": "code",
   "execution_count": 271,
   "metadata": {},
   "outputs": [
    {
     "name": "stdout",
     "output_type": "stream",
     "text": [
      "217948.117 Salário minimo R$\n",
      "214528.610 PIB R$ milhões\n",
      "31467.785 Taxa Celic Over % a.a\n",
      "19697.770 Casos covid\n",
      "15309.690 IPCA  Δ%\n",
      "15206.856 INPC Δ%\n",
      "9778.883 Produção industrial Δ% a.a\n",
      "8449.381 IGPM  Δ%\n"
     ]
    }
   ],
   "source": [
    "Stand_coef_linear_reg.fit(X,y)\n",
    "for coef, var in sorted(zip(map(abs, Stand_coef_linear_reg.steps[1][1].coef_), dataf.columns[:-1]), reverse = True):\n",
    "    print (\"%6.3f %s\" % (coef,var))"
   ]
  },
  {
   "cell_type": "markdown",
   "metadata": {},
   "source": [
    "## Influencia dos atributos no R2"
   ]
  },
  {
   "cell_type": "code",
   "execution_count": 272,
   "metadata": {},
   "outputs": [],
   "source": [
    "def r2_est(X,y):\n",
    "    return r2_score(y, modelo.fit(X,y).predict(X))"
   ]
  },
  {
   "cell_type": "code",
   "execution_count": 273,
   "metadata": {},
   "outputs": [
    {
     "name": "stdout",
     "output_type": "stream",
     "text": [
      "Baseline R2: 0.702\n"
     ]
    }
   ],
   "source": [
    "print ('Baseline R2: %0.3f' %  r2_est(X,y))"
   ]
  },
  {
   "cell_type": "code",
   "execution_count": 275,
   "metadata": {},
   "outputs": [
    {
     "name": "stdout",
     "output_type": "stream",
     "text": [
      " 0.348 Salário minimo R$\n",
      " 0.340 PIB R$ milhões\n",
      " 0.140 Taxa Celic Over % a.a\n",
      " 0.084 Casos covid\n",
      " 0.026 Produção industrial Δ% a.a\n",
      " 0.013 IGPM  Δ%\n",
      " 0.008 IPCA  Δ%\n",
      " 0.008 INPC Δ%\n"
     ]
    }
   ],
   "source": [
    "r2_impact = list()\n",
    "for j in range(X.shape[1]):\n",
    "    selection = [i for i in range(X.shape[1]) if i!=j]\n",
    "    r2_impact.append(((r2_est(X,y) - r2_est(X[:,selection],y)), dataf.columns[j]))\n",
    "    \n",
    "for imp, varname in sorted(r2_impact, reverse = True):\n",
    "    print ('%6.3f %s' %  (imp, varname))"
   ]
  },
  {
   "cell_type": "markdown",
   "metadata": {},
   "source": [
    "## Regressão com Random Forest"
   ]
  },
  {
   "cell_type": "code",
   "execution_count": 276,
   "metadata": {},
   "outputs": [
    {
     "name": "stdout",
     "output_type": "stream",
     "text": [
      "27997\n"
     ]
    }
   ],
   "source": [
    "from sklearn.ensemble import RandomForestRegressor\n",
    "from sklearn.model_selection import train_test_split\n",
    "from sklearn.metrics import mean_squared_error\n",
    "\n",
    "# seprando X e Y\n",
    "X = dataf.iloc[:,:-1]\n",
    "y = dataf['Unidades Vendidas'].values\n",
    "\n",
    "## seprando x e y em treino e teste\n",
    "Xtr, Xval, ytr, yval = train_test_split(X, y, test_size=0.2, random_state=0)\n",
    "\n",
    "#criando modelo regressor random forest\n",
    "arveres = RandomForestRegressor(n_estimators=100,min_samples_leaf=1, random_state=0, n_jobs=-1) \n",
    "\n",
    "##treinando com dados de treino\n",
    "arveres.fit(Xtr, ytr)\n",
    "\n",
    "# Prevendo com dados de teste\n",
    "p = arveres.predict(Xval)\n",
    "\n",
    "# analisando erro\n",
    "from sklearn.metrics import mean_squared_error\n",
    "from math import sqrt\n",
    "\n",
    "rmse = sqrt(mean_squared_error(yval, p))\n",
    "print(int(rmse))"
   ]
  },
  {
   "cell_type": "markdown",
   "metadata": {},
   "source": [
    "## Comparando previsao com dataset original"
   ]
  },
  {
   "cell_type": "code",
   "execution_count": 294,
   "metadata": {},
   "outputs": [
    {
     "data": {
      "text/plain": [
       "[<matplotlib.lines.Line2D at 0x281eb765888>]"
      ]
     },
     "execution_count": 294,
     "metadata": {},
     "output_type": "execute_result"
    },
    {
     "data": {
      "image/png": "[encoded data removed]",
      "text/plain": [
       "<Figure size 432x288 with 1 Axes>"
      ]
     },
     "metadata": {
      "needs_background": "light"
     },
     "output_type": "display_data"
    }
   ],
   "source": [
    "l = arveres.predict(X)\n",
    "plt.plot(l)\n",
    "plt.plot(y)"
   ]
  },
  {
   "cell_type": "markdown",
   "metadata": {},
   "source": [
    "## Comparando previsao com dados novos"
   ]
  },
  {
   "cell_type": "code",
   "execution_count": 277,
   "metadata": {},
   "outputs": [
    {
     "data": {
      "text/plain": [
       "[<matplotlib.lines.Line2D at 0x281ea280908>]"
      ]
     },
     "execution_count": 277,
     "metadata": {},
     "output_type": "execute_result"
    },
    {
     "data": {
      "image/png": "[encoded data removed]",
      "text/plain": [
       "<Figure size 432x288 with 1 Axes>"
      ]
     },
     "metadata": {
      "needs_background": "light"
     },
     "output_type": "display_data"
    }
   ],
   "source": [
    "plt.plot(p)\n",
    "plt.plot(yval)"
   ]
  },
  {
   "cell_type": "code",
   "execution_count": 337,
   "metadata": {},
   "outputs": [
    {
     "data": {
      "text/html": [
       "<div>\n",
       "<style scoped>\n",
       "    .dataframe tbody tr th:only-of-type {\n",
       "        vertical-align: middle;\n",
       "    }\n",
       "\n",
       "    .dataframe tbody tr th {\n",
       "        vertical-align: top;\n",
       "    }\n",
       "\n",
       "    .dataframe thead th {\n",
       "        text-align: right;\n",
       "    }\n",
       "</style>\n",
       "<table border=\"1\" class=\"dataframe\">\n",
       "  <thead>\n",
       "    <tr style=\"text-align: right;\">\n",
       "      <th></th>\n",
       "      <th>IGPM  Δ%</th>\n",
       "      <th>INPC Δ%</th>\n",
       "      <th>IPCA  Δ%</th>\n",
       "      <th>Salário minimo R$</th>\n",
       "      <th>Taxa Celic Over % a.a</th>\n",
       "      <th>PIB R$ milhões</th>\n",
       "      <th>Produção industrial Δ% a.a</th>\n",
       "      <th>Casos covid</th>\n",
       "      <th>Unidades Vendidas</th>\n",
       "    </tr>\n",
       "  </thead>\n",
       "  <tbody>\n",
       "    <tr>\n",
       "      <th>0</th>\n",
       "      <td>2.33</td>\n",
       "      <td>2.47</td>\n",
       "      <td>2.25</td>\n",
       "      <td>200.0</td>\n",
       "      <td>26.38</td>\n",
       "      <td>127177.5</td>\n",
       "      <td>2.21</td>\n",
       "      <td>0</td>\n",
       "      <td>120511.0</td>\n",
       "    </tr>\n",
       "    <tr>\n",
       "      <th>1</th>\n",
       "      <td>2.28</td>\n",
       "      <td>1.46</td>\n",
       "      <td>1.57</td>\n",
       "      <td>200.0</td>\n",
       "      <td>24.31</td>\n",
       "      <td>131373.6</td>\n",
       "      <td>3.01</td>\n",
       "      <td>0</td>\n",
       "      <td>131846.0</td>\n",
       "    </tr>\n",
       "    <tr>\n",
       "      <th>2</th>\n",
       "      <td>1.53</td>\n",
       "      <td>1.37</td>\n",
       "      <td>1.23</td>\n",
       "      <td>200.0</td>\n",
       "      <td>23.58</td>\n",
       "      <td>138690.5</td>\n",
       "      <td>0.00</td>\n",
       "      <td>0</td>\n",
       "      <td>125162.0</td>\n",
       "    </tr>\n",
       "    <tr>\n",
       "      <th>3</th>\n",
       "      <td>0.92</td>\n",
       "      <td>1.38</td>\n",
       "      <td>0.97</td>\n",
       "      <td>240.0</td>\n",
       "      <td>24.90</td>\n",
       "      <td>141388.1</td>\n",
       "      <td>-3.89</td>\n",
       "      <td>0</td>\n",
       "      <td>130799.0</td>\n",
       "    </tr>\n",
       "    <tr>\n",
       "      <th>4</th>\n",
       "      <td>-0.26</td>\n",
       "      <td>0.99</td>\n",
       "      <td>0.61</td>\n",
       "      <td>240.0</td>\n",
       "      <td>26.38</td>\n",
       "      <td>139605.8</td>\n",
       "      <td>-0.87</td>\n",
       "      <td>0</td>\n",
       "      <td>126942.0</td>\n",
       "    </tr>\n",
       "    <tr>\n",
       "      <th>...</th>\n",
       "      <td>...</td>\n",
       "      <td>...</td>\n",
       "      <td>...</td>\n",
       "      <td>...</td>\n",
       "      <td>...</td>\n",
       "      <td>...</td>\n",
       "      <td>...</td>\n",
       "      <td>...</td>\n",
       "      <td>...</td>\n",
       "    </tr>\n",
       "    <tr>\n",
       "      <th>215</th>\n",
       "      <td>0.96</td>\n",
       "      <td>1.46</td>\n",
       "      <td>1.35</td>\n",
       "      <td>1045.0</td>\n",
       "      <td>1.94</td>\n",
       "      <td>676356.7</td>\n",
       "      <td>8.32</td>\n",
       "      <td>1340095</td>\n",
       "      <td>261321.0</td>\n",
       "    </tr>\n",
       "    <tr>\n",
       "      <th>216</th>\n",
       "      <td>2.58</td>\n",
       "      <td>0.27</td>\n",
       "      <td>0.25</td>\n",
       "      <td>1100.0</td>\n",
       "      <td>1.81</td>\n",
       "      <td>650694.2</td>\n",
       "      <td>2.38</td>\n",
       "      <td>1528758</td>\n",
       "      <td>180904.0</td>\n",
       "    </tr>\n",
       "    <tr>\n",
       "      <th>217</th>\n",
       "      <td>2.53</td>\n",
       "      <td>0.82</td>\n",
       "      <td>0.86</td>\n",
       "      <td>1100.0</td>\n",
       "      <td>1.57</td>\n",
       "      <td>673362.3</td>\n",
       "      <td>0.25</td>\n",
       "      <td>1346528</td>\n",
       "      <td>186718.0</td>\n",
       "    </tr>\n",
       "    <tr>\n",
       "      <th>218</th>\n",
       "      <td>2.94</td>\n",
       "      <td>0.86</td>\n",
       "      <td>0.93</td>\n",
       "      <td>1100.0</td>\n",
       "      <td>2.43</td>\n",
       "      <td>723966.1</td>\n",
       "      <td>10.53</td>\n",
       "      <td>2197488</td>\n",
       "      <td>208801.0</td>\n",
       "    </tr>\n",
       "    <tr>\n",
       "      <th>219</th>\n",
       "      <td>1.51</td>\n",
       "      <td>0.38</td>\n",
       "      <td>0.31</td>\n",
       "      <td>1100.0</td>\n",
       "      <td>2.55</td>\n",
       "      <td>682431.7</td>\n",
       "      <td>34.66</td>\n",
       "      <td>1910264</td>\n",
       "      <td>191853.0</td>\n",
       "    </tr>\n",
       "  </tbody>\n",
       "</table>\n",
       "<p>220 rows × 9 columns</p>\n",
       "</div>"
      ],
      "text/plain": [
       "     IGPM  Δ%  INPC Δ%  IPCA  Δ%  Salário minimo R$  Taxa Celic Over % a.a  \\\n",
       "0        2.33     2.47      2.25              200.0                  26.38   \n",
       "1        2.28     1.46      1.57              200.0                  24.31   \n",
       "2        1.53     1.37      1.23              200.0                  23.58   \n",
       "3        0.92     1.38      0.97              240.0                  24.90   \n",
       "4       -0.26     0.99      0.61              240.0                  26.38   \n",
       "..        ...      ...       ...                ...                    ...   \n",
       "215      0.96     1.46      1.35             1045.0                   1.94   \n",
       "216      2.58     0.27      0.25             1100.0                   1.81   \n",
       "217      2.53     0.82      0.86             1100.0                   1.57   \n",
       "218      2.94     0.86      0.93             1100.0                   2.43   \n",
       "219      1.51     0.38      0.31             1100.0                   2.55   \n",
       "\n",
       "     PIB R$ milhões  Produção industrial Δ% a.a  Casos covid  \\\n",
       "0          127177.5                        2.21            0   \n",
       "1          131373.6                        3.01            0   \n",
       "2          138690.5                        0.00            0   \n",
       "3          141388.1                       -3.89            0   \n",
       "4          139605.8                       -0.87            0   \n",
       "..              ...                         ...          ...   \n",
       "215        676356.7                        8.32      1340095   \n",
       "216        650694.2                        2.38      1528758   \n",
       "217        673362.3                        0.25      1346528   \n",
       "218        723966.1                       10.53      2197488   \n",
       "219        682431.7                       34.66      1910264   \n",
       "\n",
       "     Unidades Vendidas  \n",
       "0             120511.0  \n",
       "1             131846.0  \n",
       "2             125162.0  \n",
       "3             130799.0  \n",
       "4             126942.0  \n",
       "..                 ...  \n",
       "215           261321.0  \n",
       "216           180904.0  \n",
       "217           186718.0  \n",
       "218           208801.0  \n",
       "219           191853.0  \n",
       "\n",
       "[220 rows x 9 columns]"
      ]
     },
     "execution_count": 337,
     "metadata": {},
     "output_type": "execute_result"
    }
   ],
   "source": [
    "dataf.head(-1)"
   ]
  },
  {
   "cell_type": "code",
   "execution_count": 50,
   "metadata": {},
   "outputs": [],
   "source": [
    "exemplo = np.array([2.1,0.85,0.83,1100,3.29,858355,30,1500000])\n",
    "exemplo = exemplo.reshape(1,-1)\n",
    "previsao = arveres.predict(exemplo)"
   ]
  },
  {
   "cell_type": "code",
   "execution_count": 51,
   "metadata": {},
   "outputs": [
    {
     "name": "stdout",
     "output_type": "stream",
     "text": [
      "209708\n"
     ]
    }
   ],
   "source": [
    "print(int(previsao))"
   ]
  },
  {
   "cell_type": "code",
   "execution_count": 339,
   "metadata": {},
   "outputs": [],
   "source": [
    "## Com um erro de 27997 para mais ou para menos"
   ]
  },
  {
   "cell_type": "markdown",
   "metadata": {},
   "source": [
    "# Classificadores"
   ]
  },
  {
   "cell_type": "markdown",
   "metadata": {},
   "source": [
    "## Modelo K-Nearest Neighbors"
   ]
  },
  {
   "cell_type": "code",
   "execution_count": 340,
   "metadata": {},
   "outputs": [],
   "source": [
    "# Bibliotecas para ler/manipular/ver nossos dados\n",
    "import pandas as pd\n",
    "import numpy as np\n",
    "import matplotlib.pyplot as plt\n",
    "import seaborn as sns\n",
    "\n",
    "# Biblioteca para criar nosso modelo de ML\n",
    "from sklearn import preprocessing, model_selection, neighbors\n",
    "from sklearn.preprocessing import StandardScaler\n",
    "\n",
    "# Biblioteca para plotar nosso modelo\n",
    "from mlxtend.plotting import plot_decision_regions"
   ]
  },
  {
   "cell_type": "code",
   "execution_count": 341,
   "metadata": {},
   "outputs": [
    {
     "data": {
      "text/html": [
       "<div>\n",
       "<style scoped>\n",
       "    .dataframe tbody tr th:only-of-type {\n",
       "        vertical-align: middle;\n",
       "    }\n",
       "\n",
       "    .dataframe tbody tr th {\n",
       "        vertical-align: top;\n",
       "    }\n",
       "\n",
       "    .dataframe thead th {\n",
       "        text-align: right;\n",
       "    }\n",
       "</style>\n",
       "<table border=\"1\" class=\"dataframe\">\n",
       "  <thead>\n",
       "    <tr style=\"text-align: right;\">\n",
       "      <th></th>\n",
       "      <th>IGPM  Δ%</th>\n",
       "      <th>INPC Δ%</th>\n",
       "      <th>IPCA  Δ%</th>\n",
       "      <th>Salário minimo R$</th>\n",
       "      <th>Taxa Celic Over % a.a</th>\n",
       "      <th>Balança comercial US$</th>\n",
       "      <th>PIB R$ milhões</th>\n",
       "      <th>Produção industrial Δ% a.a</th>\n",
       "      <th>Casos covid</th>\n",
       "      <th>Unidades Vendidas</th>\n",
       "    </tr>\n",
       "  </thead>\n",
       "  <tbody>\n",
       "    <tr>\n",
       "      <th>0</th>\n",
       "      <td>2.33</td>\n",
       "      <td>2.47</td>\n",
       "      <td>2.25</td>\n",
       "      <td>200.0</td>\n",
       "      <td>26.38</td>\n",
       "      <td>1.040289e+09</td>\n",
       "      <td>127177.5</td>\n",
       "      <td>2.21</td>\n",
       "      <td>0</td>\n",
       "      <td>120511.0</td>\n",
       "    </tr>\n",
       "    <tr>\n",
       "      <th>1</th>\n",
       "      <td>2.28</td>\n",
       "      <td>1.46</td>\n",
       "      <td>1.57</td>\n",
       "      <td>200.0</td>\n",
       "      <td>24.31</td>\n",
       "      <td>1.008624e+09</td>\n",
       "      <td>131373.6</td>\n",
       "      <td>3.01</td>\n",
       "      <td>0</td>\n",
       "      <td>131846.0</td>\n",
       "    </tr>\n",
       "    <tr>\n",
       "      <th>2</th>\n",
       "      <td>1.53</td>\n",
       "      <td>1.37</td>\n",
       "      <td>1.23</td>\n",
       "      <td>200.0</td>\n",
       "      <td>23.58</td>\n",
       "      <td>1.422889e+09</td>\n",
       "      <td>138690.5</td>\n",
       "      <td>0.00</td>\n",
       "      <td>0</td>\n",
       "      <td>125162.0</td>\n",
       "    </tr>\n",
       "    <tr>\n",
       "      <th>3</th>\n",
       "      <td>0.92</td>\n",
       "      <td>1.38</td>\n",
       "      <td>0.97</td>\n",
       "      <td>240.0</td>\n",
       "      <td>24.90</td>\n",
       "      <td>1.600226e+09</td>\n",
       "      <td>141388.1</td>\n",
       "      <td>-3.89</td>\n",
       "      <td>0</td>\n",
       "      <td>130799.0</td>\n",
       "    </tr>\n",
       "    <tr>\n",
       "      <th>4</th>\n",
       "      <td>-0.26</td>\n",
       "      <td>0.99</td>\n",
       "      <td>0.61</td>\n",
       "      <td>240.0</td>\n",
       "      <td>26.38</td>\n",
       "      <td>2.416734e+09</td>\n",
       "      <td>139605.8</td>\n",
       "      <td>-0.87</td>\n",
       "      <td>0</td>\n",
       "      <td>126942.0</td>\n",
       "    </tr>\n",
       "    <tr>\n",
       "      <th>...</th>\n",
       "      <td>...</td>\n",
       "      <td>...</td>\n",
       "      <td>...</td>\n",
       "      <td>...</td>\n",
       "      <td>...</td>\n",
       "      <td>...</td>\n",
       "      <td>...</td>\n",
       "      <td>...</td>\n",
       "      <td>...</td>\n",
       "      <td>...</td>\n",
       "    </tr>\n",
       "    <tr>\n",
       "      <th>216</th>\n",
       "      <td>2.58</td>\n",
       "      <td>0.27</td>\n",
       "      <td>0.25</td>\n",
       "      <td>1100.0</td>\n",
       "      <td>1.81</td>\n",
       "      <td>-2.046388e+08</td>\n",
       "      <td>650694.2</td>\n",
       "      <td>2.38</td>\n",
       "      <td>1528758</td>\n",
       "      <td>180904.0</td>\n",
       "    </tr>\n",
       "    <tr>\n",
       "      <th>217</th>\n",
       "      <td>2.53</td>\n",
       "      <td>0.82</td>\n",
       "      <td>0.86</td>\n",
       "      <td>1100.0</td>\n",
       "      <td>1.57</td>\n",
       "      <td>1.822781e+09</td>\n",
       "      <td>673362.3</td>\n",
       "      <td>0.25</td>\n",
       "      <td>1346528</td>\n",
       "      <td>186718.0</td>\n",
       "    </tr>\n",
       "    <tr>\n",
       "      <th>218</th>\n",
       "      <td>2.94</td>\n",
       "      <td>0.86</td>\n",
       "      <td>0.93</td>\n",
       "      <td>1100.0</td>\n",
       "      <td>2.43</td>\n",
       "      <td>6.410389e+09</td>\n",
       "      <td>723966.1</td>\n",
       "      <td>10.53</td>\n",
       "      <td>2197488</td>\n",
       "      <td>208801.0</td>\n",
       "    </tr>\n",
       "    <tr>\n",
       "      <th>219</th>\n",
       "      <td>1.51</td>\n",
       "      <td>0.38</td>\n",
       "      <td>0.31</td>\n",
       "      <td>1100.0</td>\n",
       "      <td>2.55</td>\n",
       "      <td>9.867923e+09</td>\n",
       "      <td>682431.7</td>\n",
       "      <td>34.66</td>\n",
       "      <td>1910264</td>\n",
       "      <td>191853.0</td>\n",
       "    </tr>\n",
       "    <tr>\n",
       "      <th>220</th>\n",
       "      <td>4.10</td>\n",
       "      <td>0.96</td>\n",
       "      <td>0.83</td>\n",
       "      <td>1100.0</td>\n",
       "      <td>3.29</td>\n",
       "      <td>8.583950e+09</td>\n",
       "      <td>698842.4</td>\n",
       "      <td>24.05</td>\n",
       "      <td>1886543</td>\n",
       "      <td>206221.0</td>\n",
       "    </tr>\n",
       "  </tbody>\n",
       "</table>\n",
       "<p>221 rows × 10 columns</p>\n",
       "</div>"
      ],
      "text/plain": [
       "     IGPM  Δ%  INPC Δ%  IPCA  Δ%  Salário minimo R$  Taxa Celic Over % a.a  \\\n",
       "0        2.33     2.47      2.25              200.0                  26.38   \n",
       "1        2.28     1.46      1.57              200.0                  24.31   \n",
       "2        1.53     1.37      1.23              200.0                  23.58   \n",
       "3        0.92     1.38      0.97              240.0                  24.90   \n",
       "4       -0.26     0.99      0.61              240.0                  26.38   \n",
       "..        ...      ...       ...                ...                    ...   \n",
       "216      2.58     0.27      0.25             1100.0                   1.81   \n",
       "217      2.53     0.82      0.86             1100.0                   1.57   \n",
       "218      2.94     0.86      0.93             1100.0                   2.43   \n",
       "219      1.51     0.38      0.31             1100.0                   2.55   \n",
       "220      4.10     0.96      0.83             1100.0                   3.29   \n",
       "\n",
       "     Balança comercial US$  PIB R$ milhões  Produção industrial Δ% a.a  \\\n",
       "0             1.040289e+09        127177.5                        2.21   \n",
       "1             1.008624e+09        131373.6                        3.01   \n",
       "2             1.422889e+09        138690.5                        0.00   \n",
       "3             1.600226e+09        141388.1                       -3.89   \n",
       "4             2.416734e+09        139605.8                       -0.87   \n",
       "..                     ...             ...                         ...   \n",
       "216          -2.046388e+08        650694.2                        2.38   \n",
       "217           1.822781e+09        673362.3                        0.25   \n",
       "218           6.410389e+09        723966.1                       10.53   \n",
       "219           9.867923e+09        682431.7                       34.66   \n",
       "220           8.583950e+09        698842.4                       24.05   \n",
       "\n",
       "     Casos covid  Unidades Vendidas  \n",
       "0              0           120511.0  \n",
       "1              0           131846.0  \n",
       "2              0           125162.0  \n",
       "3              0           130799.0  \n",
       "4              0           126942.0  \n",
       "..           ...                ...  \n",
       "216      1528758           180904.0  \n",
       "217      1346528           186718.0  \n",
       "218      2197488           208801.0  \n",
       "219      1910264           191853.0  \n",
       "220      1886543           206221.0  \n",
       "\n",
       "[221 rows x 10 columns]"
      ]
     },
     "execution_count": 341,
     "metadata": {},
     "output_type": "execute_result"
    }
   ],
   "source": [
    "dataset"
   ]
  },
  {
   "cell_type": "code",
   "execution_count": 342,
   "metadata": {},
   "outputs": [
    {
     "data": {
      "text/html": [
       "<div>\n",
       "<style scoped>\n",
       "    .dataframe tbody tr th:only-of-type {\n",
       "        vertical-align: middle;\n",
       "    }\n",
       "\n",
       "    .dataframe tbody tr th {\n",
       "        vertical-align: top;\n",
       "    }\n",
       "\n",
       "    .dataframe thead th {\n",
       "        text-align: right;\n",
       "    }\n",
       "</style>\n",
       "<table border=\"1\" class=\"dataframe\">\n",
       "  <thead>\n",
       "    <tr style=\"text-align: right;\">\n",
       "      <th></th>\n",
       "      <th>IGPM  Δ%</th>\n",
       "      <th>INPC Δ%</th>\n",
       "      <th>IPCA  Δ%</th>\n",
       "      <th>Salário minimo R$</th>\n",
       "      <th>Taxa Celic Over % a.a</th>\n",
       "      <th>Balança comercial US$</th>\n",
       "      <th>PIB R$ milhões</th>\n",
       "      <th>Produção industrial Δ% a.a</th>\n",
       "      <th>Casos covid</th>\n",
       "      <th>Unidades Vendidas</th>\n",
       "    </tr>\n",
       "  </thead>\n",
       "  <tbody>\n",
       "    <tr>\n",
       "      <th>count</th>\n",
       "      <td>221.000000</td>\n",
       "      <td>221.000000</td>\n",
       "      <td>221.000000</td>\n",
       "      <td>221.000000</td>\n",
       "      <td>221.000000</td>\n",
       "      <td>2.210000e+02</td>\n",
       "      <td>221.000000</td>\n",
       "      <td>221.000000</td>\n",
       "      <td>2.210000e+02</td>\n",
       "      <td>221.000000</td>\n",
       "    </tr>\n",
       "    <tr>\n",
       "      <th>mean</th>\n",
       "      <td>0.626787</td>\n",
       "      <td>0.472172</td>\n",
       "      <td>0.469774</td>\n",
       "      <td>623.782805</td>\n",
       "      <td>11.428597</td>\n",
       "      <td>2.408337e+09</td>\n",
       "      <td>385859.992308</td>\n",
       "      <td>0.769683</td>\n",
       "      <td>7.191575e+04</td>\n",
       "      <td>230858.936652</td>\n",
       "    </tr>\n",
       "    <tr>\n",
       "      <th>std</th>\n",
       "      <td>0.822482</td>\n",
       "      <td>0.377263</td>\n",
       "      <td>0.334212</td>\n",
       "      <td>273.260761</td>\n",
       "      <td>5.110991</td>\n",
       "      <td>2.199564e+09</td>\n",
       "      <td>163991.027587</td>\n",
       "      <td>7.362130</td>\n",
       "      <td>3.192184e+05</td>\n",
       "      <td>52436.658555</td>\n",
       "    </tr>\n",
       "    <tr>\n",
       "      <th>min</th>\n",
       "      <td>-1.100000</td>\n",
       "      <td>-0.300000</td>\n",
       "      <td>-0.380000</td>\n",
       "      <td>200.000000</td>\n",
       "      <td>1.570000</td>\n",
       "      <td>-4.496455e+09</td>\n",
       "      <td>127177.500000</td>\n",
       "      <td>-27.610000</td>\n",
       "      <td>0.000000e+00</td>\n",
       "      <td>54580.000000</td>\n",
       "    </tr>\n",
       "    <tr>\n",
       "      <th>25%</th>\n",
       "      <td>0.150000</td>\n",
       "      <td>0.210000</td>\n",
       "      <td>0.250000</td>\n",
       "      <td>380.000000</td>\n",
       "      <td>7.960000</td>\n",
       "      <td>1.103814e+09</td>\n",
       "      <td>232680.400000</td>\n",
       "      <td>-3.080000</td>\n",
       "      <td>0.000000e+00</td>\n",
       "      <td>196257.000000</td>\n",
       "    </tr>\n",
       "    <tr>\n",
       "      <th>50%</th>\n",
       "      <td>0.520000</td>\n",
       "      <td>0.430000</td>\n",
       "      <td>0.440000</td>\n",
       "      <td>622.000000</td>\n",
       "      <td>10.950000</td>\n",
       "      <td>2.542653e+09</td>\n",
       "      <td>391595.100000</td>\n",
       "      <td>0.800000</td>\n",
       "      <td>0.000000e+00</td>\n",
       "      <td>230927.000000</td>\n",
       "    </tr>\n",
       "    <tr>\n",
       "      <th>75%</th>\n",
       "      <td>0.970000</td>\n",
       "      <td>0.640000</td>\n",
       "      <td>0.620000</td>\n",
       "      <td>880.000000</td>\n",
       "      <td>14.160000</td>\n",
       "      <td>3.691672e+09</td>\n",
       "      <td>526564.700000</td>\n",
       "      <td>4.740000</td>\n",
       "      <td>0.000000e+00</td>\n",
       "      <td>263490.000000</td>\n",
       "    </tr>\n",
       "    <tr>\n",
       "      <th>max</th>\n",
       "      <td>4.340000</td>\n",
       "      <td>2.470000</td>\n",
       "      <td>2.250000</td>\n",
       "      <td>1100.000000</td>\n",
       "      <td>28.020000</td>\n",
       "      <td>9.867923e+09</td>\n",
       "      <td>723966.100000</td>\n",
       "      <td>34.660000</td>\n",
       "      <td>2.197488e+06</td>\n",
       "      <td>383535.000000</td>\n",
       "    </tr>\n",
       "  </tbody>\n",
       "</table>\n",
       "</div>"
      ],
      "text/plain": [
       "         IGPM  Δ%     INPC Δ%    IPCA  Δ%  Salário minimo R$  \\\n",
       "count  221.000000  221.000000  221.000000         221.000000   \n",
       "mean     0.626787    0.472172    0.469774         623.782805   \n",
       "std      0.822482    0.377263    0.334212         273.260761   \n",
       "min     -1.100000   -0.300000   -0.380000         200.000000   \n",
       "25%      0.150000    0.210000    0.250000         380.000000   \n",
       "50%      0.520000    0.430000    0.440000         622.000000   \n",
       "75%      0.970000    0.640000    0.620000         880.000000   \n",
       "max      4.340000    2.470000    2.250000        1100.000000   \n",
       "\n",
       "       Taxa Celic Over % a.a  Balança comercial US$  PIB R$ milhões  \\\n",
       "count             221.000000           2.210000e+02      221.000000   \n",
       "mean               11.428597           2.408337e+09   385859.992308   \n",
       "std                 5.110991           2.199564e+09   163991.027587   \n",
       "min                 1.570000          -4.496455e+09   127177.500000   \n",
       "25%                 7.960000           1.103814e+09   232680.400000   \n",
       "50%                10.950000           2.542653e+09   391595.100000   \n",
       "75%                14.160000           3.691672e+09   526564.700000   \n",
       "max                28.020000           9.867923e+09   723966.100000   \n",
       "\n",
       "       Produção industrial Δ% a.a   Casos covid  Unidades Vendidas  \n",
       "count                  221.000000  2.210000e+02         221.000000  \n",
       "mean                     0.769683  7.191575e+04      230858.936652  \n",
       "std                      7.362130  3.192184e+05       52436.658555  \n",
       "min                    -27.610000  0.000000e+00       54580.000000  \n",
       "25%                     -3.080000  0.000000e+00      196257.000000  \n",
       "50%                      0.800000  0.000000e+00      230927.000000  \n",
       "75%                      4.740000  0.000000e+00      263490.000000  \n",
       "max                     34.660000  2.197488e+06      383535.000000  "
      ]
     },
     "execution_count": 342,
     "metadata": {},
     "output_type": "execute_result"
    }
   ],
   "source": [
    "dataset.describe()"
   ]
  },
  {
   "cell_type": "code",
   "execution_count": 343,
   "metadata": {},
   "outputs": [
    {
     "data": {
      "text/plain": [
       "count       221.000000\n",
       "mean     230858.936652\n",
       "std       52436.658555\n",
       "min       54580.000000\n",
       "25%      196257.000000\n",
       "50%      230927.000000\n",
       "75%      263490.000000\n",
       "max      383535.000000\n",
       "Name: Unidades Vendidas, dtype: float64"
      ]
     },
     "execution_count": 343,
     "metadata": {},
     "output_type": "execute_result"
    }
   ],
   "source": [
    "dataset['Unidades Vendidas'].describe()"
   ]
  },
  {
   "cell_type": "code",
   "execution_count": 344,
   "metadata": {},
   "outputs": [],
   "source": [
    "## Criar um modelo que 'divida' os valores acima e abaixo \n",
    "## da mediana de unidades vendidas (181821)\n",
    "\n",
    "## \"A mediana é geralmente utilizada para retornar a tendência \n",
    "## central para distribuições numéricas distorcidas\".\n",
    "\n",
    "## com isso, o modelo será capaz de\n",
    "## quando inserirmos novos dados ele pode dizer\n",
    "## se aquela quantidade vendida vai estar acima ou abaixo\n",
    "## da mediana"
   ]
  },
  {
   "cell_type": "markdown",
   "metadata": {},
   "source": [
    "A média é usada para distribuições numéricas normais, que têm uma baixa quantidade de valores discrepantes."
   ]
  },
  {
   "cell_type": "code",
   "execution_count": 345,
   "metadata": {},
   "outputs": [
    {
     "name": "stderr",
     "output_type": "stream",
     "text": [
      "C:\\Users\\berna\\anaconda3\\lib\\site-packages\\pandas\\core\\indexing.py:965: SettingWithCopyWarning: \n",
      "A value is trying to be set on a copy of a slice from a DataFrame.\n",
      "Try using .loc[row_indexer,col_indexer] = value instead\n",
      "\n",
      "See the caveats in the documentation: https://pandas.pydata.org/pandas-docs/stable/user_guide/indexing.html#returning-a-view-versus-a-copy\n",
      "  self.obj[item] = s\n"
     ]
    }
   ],
   "source": [
    "## Dividindo os grupos\n",
    "dataset.loc[dataset['Unidades Vendidas'] < 230927.000000,'Unidades Vendidas'] = 0\n",
    "dataset.loc[dataset['Unidades Vendidas'] >= 230927.000000,'Unidades Vendidas'] = 1"
   ]
  },
  {
   "cell_type": "code",
   "execution_count": 346,
   "metadata": {},
   "outputs": [
    {
     "data": {
      "text/plain": [
       "array([0., 1.])"
      ]
     },
     "execution_count": 346,
     "metadata": {},
     "output_type": "execute_result"
    }
   ],
   "source": [
    "dataset['Unidades Vendidas'].unique()"
   ]
  },
  {
   "cell_type": "code",
   "execution_count": 702,
   "metadata": {},
   "outputs": [],
   "source": [
    "## sem tem que analisar a produção em si"
   ]
  },
  {
   "cell_type": "code",
   "execution_count": 703,
   "metadata": {},
   "outputs": [],
   "source": [
    "## Quais variaves mais explicam os valores de vendas estarem \n",
    "## acima ou abaixo da mediana\n",
    "\n",
    "## correlação =! causalidade\n",
    "\n",
    "## como no modelo anterior, as variaveis que mais explicam as venda\n",
    "## é o PIB e SALARIO.\n"
   ]
  },
  {
   "cell_type": "code",
   "execution_count": 704,
   "metadata": {},
   "outputs": [
    {
     "data": {
      "image/png": "[encoded data removed]",
      "text/plain": [
       "<Figure size 432x288 with 1 Axes>"
      ]
     },
     "metadata": {
      "needs_background": "light"
     },
     "output_type": "display_data"
    }
   ],
   "source": [
    "sns.scatterplot(data=dataset, x='Salário minimo R$', y='PIB R$ milhões', hue='Unidades Vendidas')\n",
    "plt.show()"
   ]
  },
  {
   "cell_type": "code",
   "execution_count": 705,
   "metadata": {},
   "outputs": [],
   "source": [
    "## bolas laranjas vendas abaixo da mediana\n",
    "## bolas azuis vendas acima da mediana"
   ]
  },
  {
   "cell_type": "code",
   "execution_count": 706,
   "metadata": {},
   "outputs": [],
   "source": [
    "## quanto mais o PIB e SALARIO minimo aumentam\n",
    "## mais as vendas aumentam acima da mediana"
   ]
  },
  {
   "cell_type": "code",
   "execution_count": 707,
   "metadata": {},
   "outputs": [],
   "source": [
    "## quanto mais o PIB e SALARIO minimo diminuem\n",
    "## mais as vendas aumentam abaixo da mediana"
   ]
  },
  {
   "cell_type": "code",
   "execution_count": 708,
   "metadata": {},
   "outputs": [
    {
     "data": {
      "image/png": "[encoded data removed]",
      "text/plain": [
       "<Figure size 432x288 with 1 Axes>"
      ]
     },
     "metadata": {
      "needs_background": "light"
     },
     "output_type": "display_data"
    }
   ],
   "source": [
    "sns.scatterplot(data=dataset, x='Salário minimo R$', y='Balança comercial US$', hue='Unidades Vendidas')\n",
    "plt.show()"
   ]
  },
  {
   "cell_type": "code",
   "execution_count": 709,
   "metadata": {},
   "outputs": [],
   "source": [
    "## divisao nao ficou tao clara como anteriormente\n",
    "## pois a correlação da balança comercial é menor"
   ]
  },
  {
   "cell_type": "code",
   "execution_count": 710,
   "metadata": {},
   "outputs": [
    {
     "data": {
      "image/png": "[encoded data removed]",
      "text/plain": [
       "<Figure size 432x288 with 1 Axes>"
      ]
     },
     "metadata": {
      "needs_background": "light"
     },
     "output_type": "display_data"
    }
   ],
   "source": [
    "sns.scatterplot(data=dataset, x='PIB R$ milhões', y='Balança comercial US$', hue='Unidades Vendidas')\n",
    "plt.show()"
   ]
  },
  {
   "cell_type": "markdown",
   "metadata": {},
   "source": [
    "## Aplicando KNN"
   ]
  },
  {
   "cell_type": "code",
   "execution_count": 711,
   "metadata": {},
   "outputs": [],
   "source": [
    "X = np.array(dataset.drop(['Unidades Vendidas'],1))\n",
    "\n",
    "y = np.array(dataset['Unidades Vendidas'])"
   ]
  },
  {
   "cell_type": "code",
   "execution_count": 712,
   "metadata": {},
   "outputs": [],
   "source": [
    "## separando dados em treino e teste\n",
    "X_train, X_test, y_train, y_test = model_selection.train_test_split(X, y, test_size = 0.2, random_state=42)"
   ]
  },
  {
   "cell_type": "code",
   "execution_count": 713,
   "metadata": {},
   "outputs": [],
   "source": [
    "## normalizando dandos para entregar ao algoritmo KNN\n",
    "\n",
    "sc_X = StandardScaler()\n",
    "X_train = sc_X.fit_transform(X_train)\n",
    "X_test = sc_X.transform(X_test)\n"
   ]
  },
  {
   "cell_type": "code",
   "execution_count": 714,
   "metadata": {},
   "outputs": [],
   "source": [
    "modelo = neighbors.KNeighborsClassifier(n_neighbors=11, metric='euclidean')"
   ]
  },
  {
   "cell_type": "code",
   "execution_count": 715,
   "metadata": {},
   "outputs": [
    {
     "data": {
      "text/plain": [
       "KNeighborsClassifier(algorithm='auto', leaf_size=30, metric='euclidean',\n",
       "                     metric_params=None, n_jobs=None, n_neighbors=11, p=2,\n",
       "                     weights='uniform')"
      ]
     },
     "execution_count": 715,
     "metadata": {},
     "output_type": "execute_result"
    }
   ],
   "source": [
    "modelo.fit(X_train,y_train)"
   ]
  },
  {
   "cell_type": "markdown",
   "metadata": {},
   "source": [
    "## Acuracia"
   ]
  },
  {
   "cell_type": "code",
   "execution_count": 716,
   "metadata": {},
   "outputs": [
    {
     "data": {
      "text/plain": [
       "0.8222222222222222"
      ]
     },
     "execution_count": 716,
     "metadata": {},
     "output_type": "execute_result"
    }
   ],
   "source": [
    "acuracia = modelo.score(X_test,y_test) \n",
    "acuracia"
   ]
  },
  {
   "cell_type": "markdown",
   "metadata": {},
   "source": [
    "## Criando uma fronteira entre os dados"
   ]
  },
  {
   "cell_type": "code",
   "execution_count": 717,
   "metadata": {},
   "outputs": [],
   "source": [
    "def knn_comparison(dataset, k):\n",
    "    x = dataset[['Salário minimo R$','PIB R$ milhões']].values\n",
    "    y = dataset['Unidades Vendidas'].astype(int).values\n",
    "    knn = neighbors.KNeighborsClassifier(n_neighbors=k)\n",
    "    knn.fit(x, y)\n",
    "    plot_decision_regions(x, y, clf=knn)\n",
    "    plt.xlabel('Salário minimo R$')\n",
    "    plt.ylabel('PIB R$ milhões')\n",
    "    plt.title('K='+ str(k))\n",
    "    plt.show()"
   ]
  },
  {
   "cell_type": "code",
   "execution_count": 718,
   "metadata": {},
   "outputs": [
    {
     "data": {
      "image/png": "[encoded data removed]",
      "text/plain": [
       "<Figure size 432x288 with 1 Axes>"
      ]
     },
     "metadata": {
      "needs_background": "light"
     },
     "output_type": "display_data"
    }
   ],
   "source": [
    "knn_comparison(dataset, k = 19)"
   ]
  },
  {
   "cell_type": "markdown",
   "metadata": {},
   "source": [
    "## Prevendo a venda de veiculos"
   ]
  },
  {
   "cell_type": "code",
   "execution_count": 729,
   "metadata": {},
   "outputs": [
    {
     "data": {
      "text/html": [
       "<div>\n",
       "<style scoped>\n",
       "    .dataframe tbody tr th:only-of-type {\n",
       "        vertical-align: middle;\n",
       "    }\n",
       "\n",
       "    .dataframe tbody tr th {\n",
       "        vertical-align: top;\n",
       "    }\n",
       "\n",
       "    .dataframe thead th {\n",
       "        text-align: right;\n",
       "    }\n",
       "</style>\n",
       "<table border=\"1\" class=\"dataframe\">\n",
       "  <thead>\n",
       "    <tr style=\"text-align: right;\">\n",
       "      <th></th>\n",
       "      <th>IGPM  Δ%</th>\n",
       "      <th>INPC Δ%</th>\n",
       "      <th>IPCA  Δ%</th>\n",
       "      <th>Salário minimo R$</th>\n",
       "      <th>Taxa Celic Over % a.a</th>\n",
       "      <th>Balança comercial US$</th>\n",
       "      <th>PIB R$ milhões</th>\n",
       "      <th>Produção industrial Δ% a.a</th>\n",
       "      <th>Casos covid</th>\n",
       "      <th>Unidades Vendidas</th>\n",
       "    </tr>\n",
       "  </thead>\n",
       "  <tbody>\n",
       "    <tr>\n",
       "      <th>0</th>\n",
       "      <td>2.33</td>\n",
       "      <td>2.47</td>\n",
       "      <td>2.25</td>\n",
       "      <td>200.0</td>\n",
       "      <td>26.38</td>\n",
       "      <td>1.040289e+09</td>\n",
       "      <td>127177.5</td>\n",
       "      <td>2.21</td>\n",
       "      <td>0</td>\n",
       "      <td>0.0</td>\n",
       "    </tr>\n",
       "    <tr>\n",
       "      <th>1</th>\n",
       "      <td>2.28</td>\n",
       "      <td>1.46</td>\n",
       "      <td>1.57</td>\n",
       "      <td>200.0</td>\n",
       "      <td>24.31</td>\n",
       "      <td>1.008624e+09</td>\n",
       "      <td>131373.6</td>\n",
       "      <td>3.01</td>\n",
       "      <td>0</td>\n",
       "      <td>0.0</td>\n",
       "    </tr>\n",
       "    <tr>\n",
       "      <th>2</th>\n",
       "      <td>1.53</td>\n",
       "      <td>1.37</td>\n",
       "      <td>1.23</td>\n",
       "      <td>200.0</td>\n",
       "      <td>23.58</td>\n",
       "      <td>1.422889e+09</td>\n",
       "      <td>138690.5</td>\n",
       "      <td>0.00</td>\n",
       "      <td>0</td>\n",
       "      <td>0.0</td>\n",
       "    </tr>\n",
       "    <tr>\n",
       "      <th>3</th>\n",
       "      <td>0.92</td>\n",
       "      <td>1.38</td>\n",
       "      <td>0.97</td>\n",
       "      <td>240.0</td>\n",
       "      <td>24.90</td>\n",
       "      <td>1.600226e+09</td>\n",
       "      <td>141388.1</td>\n",
       "      <td>-3.89</td>\n",
       "      <td>0</td>\n",
       "      <td>0.0</td>\n",
       "    </tr>\n",
       "    <tr>\n",
       "      <th>4</th>\n",
       "      <td>-0.26</td>\n",
       "      <td>0.99</td>\n",
       "      <td>0.61</td>\n",
       "      <td>240.0</td>\n",
       "      <td>26.38</td>\n",
       "      <td>2.416734e+09</td>\n",
       "      <td>139605.8</td>\n",
       "      <td>-0.87</td>\n",
       "      <td>0</td>\n",
       "      <td>0.0</td>\n",
       "    </tr>\n",
       "    <tr>\n",
       "      <th>...</th>\n",
       "      <td>...</td>\n",
       "      <td>...</td>\n",
       "      <td>...</td>\n",
       "      <td>...</td>\n",
       "      <td>...</td>\n",
       "      <td>...</td>\n",
       "      <td>...</td>\n",
       "      <td>...</td>\n",
       "      <td>...</td>\n",
       "      <td>...</td>\n",
       "    </tr>\n",
       "    <tr>\n",
       "      <th>215</th>\n",
       "      <td>0.96</td>\n",
       "      <td>1.46</td>\n",
       "      <td>1.35</td>\n",
       "      <td>1045.0</td>\n",
       "      <td>1.94</td>\n",
       "      <td>2.703120e+09</td>\n",
       "      <td>676356.7</td>\n",
       "      <td>8.32</td>\n",
       "      <td>1340095</td>\n",
       "      <td>1.0</td>\n",
       "    </tr>\n",
       "    <tr>\n",
       "      <th>216</th>\n",
       "      <td>2.58</td>\n",
       "      <td>0.27</td>\n",
       "      <td>0.25</td>\n",
       "      <td>1100.0</td>\n",
       "      <td>1.81</td>\n",
       "      <td>-2.046388e+08</td>\n",
       "      <td>650694.2</td>\n",
       "      <td>2.38</td>\n",
       "      <td>1528758</td>\n",
       "      <td>0.0</td>\n",
       "    </tr>\n",
       "    <tr>\n",
       "      <th>217</th>\n",
       "      <td>2.53</td>\n",
       "      <td>0.82</td>\n",
       "      <td>0.86</td>\n",
       "      <td>1100.0</td>\n",
       "      <td>1.57</td>\n",
       "      <td>1.822781e+09</td>\n",
       "      <td>673362.3</td>\n",
       "      <td>0.25</td>\n",
       "      <td>1346528</td>\n",
       "      <td>0.0</td>\n",
       "    </tr>\n",
       "    <tr>\n",
       "      <th>218</th>\n",
       "      <td>2.94</td>\n",
       "      <td>0.86</td>\n",
       "      <td>0.93</td>\n",
       "      <td>1100.0</td>\n",
       "      <td>2.43</td>\n",
       "      <td>6.410389e+09</td>\n",
       "      <td>723966.1</td>\n",
       "      <td>10.53</td>\n",
       "      <td>2197488</td>\n",
       "      <td>0.0</td>\n",
       "    </tr>\n",
       "    <tr>\n",
       "      <th>219</th>\n",
       "      <td>1.51</td>\n",
       "      <td>0.38</td>\n",
       "      <td>0.31</td>\n",
       "      <td>1100.0</td>\n",
       "      <td>2.55</td>\n",
       "      <td>9.867923e+09</td>\n",
       "      <td>682431.7</td>\n",
       "      <td>34.66</td>\n",
       "      <td>1910264</td>\n",
       "      <td>0.0</td>\n",
       "    </tr>\n",
       "  </tbody>\n",
       "</table>\n",
       "<p>220 rows × 10 columns</p>\n",
       "</div>"
      ],
      "text/plain": [
       "     IGPM  Δ%  INPC Δ%  IPCA  Δ%  Salário minimo R$  Taxa Celic Over % a.a  \\\n",
       "0        2.33     2.47      2.25              200.0                  26.38   \n",
       "1        2.28     1.46      1.57              200.0                  24.31   \n",
       "2        1.53     1.37      1.23              200.0                  23.58   \n",
       "3        0.92     1.38      0.97              240.0                  24.90   \n",
       "4       -0.26     0.99      0.61              240.0                  26.38   \n",
       "..        ...      ...       ...                ...                    ...   \n",
       "215      0.96     1.46      1.35             1045.0                   1.94   \n",
       "216      2.58     0.27      0.25             1100.0                   1.81   \n",
       "217      2.53     0.82      0.86             1100.0                   1.57   \n",
       "218      2.94     0.86      0.93             1100.0                   2.43   \n",
       "219      1.51     0.38      0.31             1100.0                   2.55   \n",
       "\n",
       "     Balança comercial US$  PIB R$ milhões  Produção industrial Δ% a.a  \\\n",
       "0             1.040289e+09        127177.5                        2.21   \n",
       "1             1.008624e+09        131373.6                        3.01   \n",
       "2             1.422889e+09        138690.5                        0.00   \n",
       "3             1.600226e+09        141388.1                       -3.89   \n",
       "4             2.416734e+09        139605.8                       -0.87   \n",
       "..                     ...             ...                         ...   \n",
       "215           2.703120e+09        676356.7                        8.32   \n",
       "216          -2.046388e+08        650694.2                        2.38   \n",
       "217           1.822781e+09        673362.3                        0.25   \n",
       "218           6.410389e+09        723966.1                       10.53   \n",
       "219           9.867923e+09        682431.7                       34.66   \n",
       "\n",
       "     Casos covid  Unidades Vendidas  \n",
       "0              0                0.0  \n",
       "1              0                0.0  \n",
       "2              0                0.0  \n",
       "3              0                0.0  \n",
       "4              0                0.0  \n",
       "..           ...                ...  \n",
       "215      1340095                1.0  \n",
       "216      1528758                0.0  \n",
       "217      1346528                0.0  \n",
       "218      2197488                0.0  \n",
       "219      1910264                0.0  \n",
       "\n",
       "[220 rows x 10 columns]"
      ]
     },
     "execution_count": 729,
     "metadata": {},
     "output_type": "execute_result"
    }
   ],
   "source": [
    "dataset.head(-1)"
   ]
  },
  {
   "cell_type": "code",
   "execution_count": 739,
   "metadata": {},
   "outputs": [],
   "source": [
    "exemplo = np.array([2.1,0.85,0.83,1100,3.29,8583535555,500000,30,1500000])\n",
    "exemplo = exemplo.reshape(1,-1)\n",
    "\n",
    "exemplo = sc_X.transform(exemplo)\n",
    "previsao = modelo.predict(exemplo)\n",
    "\n"
   ]
  },
  {
   "cell_type": "code",
   "execution_count": 741,
   "metadata": {},
   "outputs": [
    {
     "name": "stdout",
     "output_type": "stream",
     "text": [
      "[0.]\n"
     ]
    }
   ],
   "source": [
    "print(previsao)"
   ]
  },
  {
   "cell_type": "code",
   "execution_count": 742,
   "metadata": {},
   "outputs": [],
   "source": [
    "## logo, modelo preveu que para esse valores\n",
    "## as vendas vao estar abaixo da mediana."
   ]
  },
  {
   "cell_type": "code",
   "execution_count": 743,
   "metadata": {},
   "outputs": [
    {
     "name": "stdout",
     "output_type": "stream",
     "text": [
      "[[12  6]\n",
      " [ 2 25]]\n",
      "0.8222222222222222\n"
     ]
    }
   ],
   "source": [
    "from sklearn.metrics import confusion_matrix, accuracy_score\n",
    "y_pred=modelo.predict(X_test)\n",
    "cm = confusion_matrix(y_test, y_pred)\n",
    "print(cm)\n",
    "print(accuracy_score(y_test, y_pred))"
   ]
  },
  {
   "cell_type": "code",
   "execution_count": 744,
   "metadata": {},
   "outputs": [],
   "source": [
    "## a Confusion matriz fala que:\n",
    "\n",
    "##  12 era 0 e ele previu 0\n",
    "## 6 era 0 e ele previu 1\n",
    "## 25 era 1 e ele preveu 1\n",
    "## 2 era 1 e ele preveu 0"
   ]
  },
  {
   "cell_type": "code",
   "execution_count": 745,
   "metadata": {},
   "outputs": [
    {
     "data": {
      "text/plain": [
       "Text(69.0, 0.5, 'Truth')"
      ]
     },
     "execution_count": 745,
     "metadata": {},
     "output_type": "execute_result"
    },
    {
     "data": {
      "image/png": "[encoded data removed]",
      "text/plain": [
       "<Figure size 720x504 with 2 Axes>"
      ]
     },
     "metadata": {
      "needs_background": "light"
     },
     "output_type": "display_data"
    }
   ],
   "source": [
    "%matplotlib inline\n",
    "import matplotlib.pyplot as plt\n",
    "import seaborn as sn\n",
    "plt.figure(figsize=(10,7))\n",
    "sn.heatmap(cm, annot=True)\n",
    "plt.xlabel('Predicted')\n",
    "plt.ylabel('Truth')"
   ]
  },
  {
   "cell_type": "markdown",
   "metadata": {},
   "source": [
    "## Suport Vector Machine"
   ]
  },
  {
   "cell_type": "code",
   "execution_count": 746,
   "metadata": {},
   "outputs": [],
   "source": [
    "import pandas as pd\n",
    "import sklearn.model_selection as ms\n",
    "import matplotlib.pyplot as plt\n",
    "import numpy as np\n",
    "from sklearn.metrics import confusion_matrix, accuracy_score\n",
    "from sklearn.svm import SVC\n",
    "from sklearn.preprocessing import StandardScaler "
   ]
  },
  {
   "cell_type": "code",
   "execution_count": 747,
   "metadata": {},
   "outputs": [],
   "source": [
    "X = dataset.iloc[:,:-1].values\n",
    "y = dataset['Unidades Vendidas'].values"
   ]
  },
  {
   "cell_type": "code",
   "execution_count": 748,
   "metadata": {},
   "outputs": [],
   "source": [
    "X_train, X_test, y_train, y_test = model_selection.train_test_split(X, y, test_size = 0.2, random_state=42)"
   ]
  },
  {
   "cell_type": "code",
   "execution_count": 749,
   "metadata": {},
   "outputs": [],
   "source": [
    "sc_X_train = StandardScaler()\n",
    "sc_X_test = StandardScaler()\n",
    "X_train = sc_X_train.fit_transform(X_train)\n",
    "X_test = sc_X_test.fit_transform(X_test)"
   ]
  },
  {
   "cell_type": "code",
   "execution_count": 750,
   "metadata": {},
   "outputs": [
    {
     "data": {
      "text/plain": [
       "SVC(C=40, break_ties=False, cache_size=200, class_weight=None, coef0=0.0,\n",
       "    decision_function_shape='ovr', degree=3, gamma='scale', kernel='poly',\n",
       "    max_iter=-1, probability=False, random_state=None, shrinking=True,\n",
       "    tol=0.001, verbose=False)"
      ]
     },
     "execution_count": 750,
     "metadata": {},
     "output_type": "execute_result"
    }
   ],
   "source": [
    "classifier = SVC(kernel='poly', C = 40, degree = 3, gamma = 'scale')\n",
    "classifier.fit(X_train, y_train)"
   ]
  },
  {
   "cell_type": "code",
   "execution_count": 751,
   "metadata": {},
   "outputs": [],
   "source": [
    "y_pred = classifier.predict(X_test)"
   ]
  },
  {
   "cell_type": "code",
   "execution_count": 752,
   "metadata": {},
   "outputs": [
    {
     "name": "stdout",
     "output_type": "stream",
     "text": [
      "[[14  4]\n",
      " [ 3 24]]\n",
      "0.8444444444444444\n"
     ]
    }
   ],
   "source": [
    "cm = confusion_matrix(y_test, y_pred)\n",
    "print(cm)\n",
    "print(accuracy_score(y_test, y_pred))"
   ]
  },
  {
   "cell_type": "code",
   "execution_count": 753,
   "metadata": {},
   "outputs": [
    {
     "data": {
      "text/plain": [
       "Text(69.0, 0.5, 'Truth')"
      ]
     },
     "execution_count": 753,
     "metadata": {},
     "output_type": "execute_result"
    },
    {
     "data": {
      "image/png": "[encoded data removed]",
      "text/plain": [
       "<Figure size 720x504 with 2 Axes>"
      ]
     },
     "metadata": {
      "needs_background": "light"
     },
     "output_type": "display_data"
    }
   ],
   "source": [
    "%matplotlib inline\n",
    "import matplotlib.pyplot as plt\n",
    "import seaborn as sn\n",
    "plt.figure(figsize=(10,7))\n",
    "sn.heatmap(cm, annot=True)\n",
    "plt.xlabel('Predicted')\n",
    "plt.ylabel('Truth')"
   ]
  },
  {
   "cell_type": "code",
   "execution_count": 754,
   "metadata": {},
   "outputs": [
    {
     "data": {
      "text/plain": [
       "array([0.])"
      ]
     },
     "execution_count": 754,
     "metadata": {},
     "output_type": "execute_result"
    }
   ],
   "source": [
    "exemplo = np.array([4.10,0.85,0.83,1100,3.29,8583535555,68882,24,1552565])\n",
    "exemplo = exemplo.reshape(1,-1)\n",
    "\n",
    "exemplo = sc_X.transform(exemplo)\n",
    "previsao = classifier.predict(exemplo)\n",
    "\n",
    "previsao"
   ]
  },
  {
   "cell_type": "code",
   "execution_count": 398,
   "metadata": {},
   "outputs": [],
   "source": []
  },
  {
   "cell_type": "code",
   "execution_count": null,
   "metadata": {},
   "outputs": [],
   "source": []
  },
  {
   "cell_type": "code",
   "execution_count": null,
   "metadata": {},
   "outputs": [],
   "source": []
  },
  {
   "cell_type": "code",
   "execution_count": null,
   "metadata": {},
   "outputs": [],
   "source": []
  },
  {
   "cell_type": "code",
   "execution_count": null,
   "metadata": {},
   "outputs": [],
   "source": []
  },
  {
   "cell_type": "code",
   "execution_count": null,
   "metadata": {},
   "outputs": [],
   "source": []
  },
  {
   "cell_type": "code",
   "execution_count": null,
   "metadata": {},
   "outputs": [],
   "source": []
  },
  {
   "cell_type": "code",
   "execution_count": null,
   "metadata": {},
   "outputs": [],
   "source": []
  },
  {
   "cell_type": "code",
   "execution_count": null,
   "metadata": {},
   "outputs": [],
   "source": []
  }
 ],
 "metadata": {
  "kernelspec": {
   "display_name": "Python 3",
   "language": "python",
   "name": "python3"
  },
  "language_info": {
   "codemirror_mode": {
    "name": "ipython",
    "version": 3
   },
   "file_extension": ".py",
   "mimetype": "text/x-python",
   "name": "python",
   "nbconvert_exporter": "python",
   "pygments_lexer": "ipython3",
   "version": "3.7.6"
  }
 },
 "nbformat": 4,
 "nbformat_minor": 4
}
